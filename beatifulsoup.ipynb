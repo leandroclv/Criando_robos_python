{
 "cells": [
  {
   "cell_type": "code",
   "execution_count": 1,
   "id": "afbe5de6",
   "metadata": {},
   "outputs": [],
   "source": [
    "from bs4 import BeautifulSoup"
   ]
  },
  {
   "cell_type": "code",
   "execution_count": 2,
   "id": "8b45f1d3",
   "metadata": {},
   "outputs": [
    {
     "data": {
      "text/plain": [
       "<_io.TextIOWrapper name='generic_simple.html' mode='r' encoding='utf-8'>"
      ]
     },
     "execution_count": 2,
     "metadata": {},
     "output_type": "execute_result"
    }
   ],
   "source": [
    "html_file = open('generic_simple.html', mode='r', encoding='utf-8')\n",
    "html_file"
   ]
  },
  {
   "cell_type": "code",
   "execution_count": 3,
   "id": "cfeff1e0",
   "metadata": {},
   "outputs": [],
   "source": [
    "soup = BeautifulSoup(html_file)"
   ]
  },
  {
   "cell_type": "code",
   "execution_count": 4,
   "id": "07fc2ea0",
   "metadata": {},
   "outputs": [
    {
     "data": {
      "text/plain": [
       "<!DOCTYPE html>\n",
       "<html>\n",
       "<head>\n",
       "<title>Um HTML simples</title>\n",
       "</head>\n",
       "<body bgcolor=\"salmon\">\n",
       "<h1 style=\"background-color:peachpuff\">Um tópico aleatório</h1>\n",
       "<div class=\"article\" id=\"I_AM_Unique\" style=\"background-color:peachpuff\">\n",
       "<p style=\"background-color:peachpuff\">Eu sou a descrição do tópico aleatório acima. Não há necessidade de me ler em tudo.\n",
       "\t\tAinda assim, se você está lendo, o problema é seu.\n",
       "\t\tVocê ainda não consegue descobrir, eu sou inútil?\n",
       "\t\tPessoal, parem de me ler agora.\n",
       "\t\tObrigado\n",
       "\t</p>\n",
       "</div>\n",
       "<br/><br/><br/>\n",
       "<div class=\"article\" id=\"imp_article_ID\" style=\"background-color:peachpuff\">\n",
       "<h2>Já utilizou o google hoje?</h2>\n",
       "<a href=\"http://www.google.com\"><h3><b> Ir para o google </b></h3></a>\n",
       "</div>\n",
       "<br/><br/><br/>\n",
       "<div class=\"article\" id=\"I_AM_AnotherDivID\" style=\"background-color:peachpuff\">\n",
       "<b>Sou apenas uma nova divisão<b><br/>\n",
       "\tQuer ir para o site do professor?\n",
       "\t<a href=\"https://www.udemy.com/user/gabriel-henrique-casemiro/\">Ir agora</a>\n",
       "</b></b></div>\n",
       "<div class=\"article\" id=\"I_AM_AnotherDivID\" style=\"background-color:peachpuff\">\n",
       "<b>Vamos participar do grupo do curso?<b><br/>\n",
       "<a href=\"https://t.me/criandoroboscompython\">Entrar no grupo do telegram</a>\n",
       "</b></b></div>\n",
       "<br/><br/><br/>\n",
       "<div id=\"footer\" style=\"background-color:peachpuff\">\n",
       "<center><h2>Sou um rodapé</h2> </center>\n",
       "</div>\n",
       "</body>\n",
       "</html>"
      ]
     },
     "execution_count": 4,
     "metadata": {},
     "output_type": "execute_result"
    }
   ],
   "source": [
    "soup"
   ]
  },
  {
   "cell_type": "code",
   "execution_count": 5,
   "id": "b145b432",
   "metadata": {},
   "outputs": [
    {
     "data": {
      "text/plain": [
       "'<!DOCTYPE html>\\n<html>\\n <head>\\n  <title>\\n   Um HTML simples\\n  </title>\\n </head>\\n <body bgcolor=\"salmon\">\\n  <h1 style=\"background-color:peachpuff\">\\n   Um tópico aleatório\\n  </h1>\\n  <div class=\"article\" id=\"I_AM_Unique\" style=\"background-color:peachpuff\">\\n   <p style=\"background-color:peachpuff\">\\n    Eu sou a descrição do tópico aleatório acima. Não há necessidade de me ler em tudo.\\n\\t\\tAinda assim, se você está lendo, o problema é seu.\\n\\t\\tVocê ainda não consegue descobrir, eu sou inútil?\\n\\t\\tPessoal, parem de me ler agora.\\n\\t\\tObrigado\\n   </p>\\n  </div>\\n  <br/>\\n  <br/>\\n  <br/>\\n  <div class=\"article\" id=\"imp_article_ID\" style=\"background-color:peachpuff\">\\n   <h2>\\n    Já utilizou o google hoje?\\n   </h2>\\n   <a href=\"http://www.google.com\">\\n    <h3>\\n     <b>\\n      Ir para o google\\n     </b>\\n    </h3>\\n   </a>\\n  </div>\\n  <br/>\\n  <br/>\\n  <br/>\\n  <div class=\"article\" id=\"I_AM_AnotherDivID\" style=\"background-color:peachpuff\">\\n   <b>\\n    Sou apenas uma nova divisão\\n    <b>\\n     <br/>\\n     Quer ir para o site do professor?\\n     <a href=\"https://www.udemy.com/user/gabriel-henrique-casemiro/\">\\n      Ir agora\\n     </a>\\n    </b>\\n   </b>\\n  </div>\\n  <div class=\"article\" id=\"I_AM_AnotherDivID\" style=\"background-color:peachpuff\">\\n   <b>\\n    Vamos participar do grupo do curso?\\n    <b>\\n     <br/>\\n     <a href=\"https://t.me/criandoroboscompython\">\\n      Entrar no grupo do telegram\\n     </a>\\n    </b>\\n   </b>\\n  </div>\\n  <br/>\\n  <br/>\\n  <br/>\\n  <div id=\"footer\" style=\"background-color:peachpuff\">\\n   <center>\\n    <h2>\\n     Sou um rodapé\\n    </h2>\\n   </center>\\n  </div>\\n </body>\\n</html>\\n'"
      ]
     },
     "execution_count": 5,
     "metadata": {},
     "output_type": "execute_result"
    }
   ],
   "source": [
    "soup.prettify()"
   ]
  },
  {
   "cell_type": "code",
   "execution_count": 6,
   "id": "453a3cfb",
   "metadata": {},
   "outputs": [
    {
     "data": {
      "text/plain": [
       "'  Um HTML simples   Um tópico aleatório  Eu sou a descrição do tópico aleatório acima. Não há necessidade de me ler em tudo. \\t\\tAinda assim, se você está lendo, o problema é seu. \\t\\tVocê ainda não consegue descobrir, eu sou inútil? \\t\\tPessoal, parem de me ler agora. \\t\\tObrigado \\t    Já utilizou o google hoje?  Ir para o google     Sou apenas uma nova divisão \\tQuer ir para o site do professor? \\tIr agora   Vamos participar do grupo do curso? Entrar no grupo do telegram    Sou um rodapé     '"
      ]
     },
     "execution_count": 6,
     "metadata": {},
     "output_type": "execute_result"
    }
   ],
   "source": [
    "soup.getText().replace('\\n', ' ')"
   ]
  },
  {
   "cell_type": "code",
   "execution_count": 7,
   "id": "5007d465",
   "metadata": {},
   "outputs": [
    {
     "data": {
      "text/plain": [
       "<title>Um HTML simples</title>"
      ]
     },
     "execution_count": 7,
     "metadata": {},
     "output_type": "execute_result"
    }
   ],
   "source": [
    "soup.title"
   ]
  },
  {
   "cell_type": "code",
   "execution_count": 8,
   "id": "74f43ef1",
   "metadata": {},
   "outputs": [
    {
     "data": {
      "text/plain": [
       "'Um HTML simples'"
      ]
     },
     "execution_count": 8,
     "metadata": {},
     "output_type": "execute_result"
    }
   ],
   "source": [
    "soup.title.string"
   ]
  },
  {
   "cell_type": "code",
   "execution_count": 9,
   "id": "38caa967",
   "metadata": {},
   "outputs": [
    {
     "data": {
      "text/plain": [
       "'title'"
      ]
     },
     "execution_count": 9,
     "metadata": {},
     "output_type": "execute_result"
    }
   ],
   "source": [
    "soup.title.name"
   ]
  },
  {
   "cell_type": "code",
   "execution_count": 10,
   "id": "431f024b",
   "metadata": {},
   "outputs": [
    {
     "data": {
      "text/plain": [
       "<head>\n",
       "<title>Um HTML simples</title>\n",
       "</head>"
      ]
     },
     "execution_count": 10,
     "metadata": {},
     "output_type": "execute_result"
    }
   ],
   "source": [
    "soup.title.parent"
   ]
  },
  {
   "cell_type": "code",
   "execution_count": 11,
   "id": "b115627f",
   "metadata": {},
   "outputs": [
    {
     "data": {
      "text/plain": [
       "'head'"
      ]
     },
     "execution_count": 11,
     "metadata": {},
     "output_type": "execute_result"
    }
   ],
   "source": [
    "soup.title.parent.name"
   ]
  },
  {
   "cell_type": "code",
   "execution_count": 12,
   "id": "9dc02940",
   "metadata": {},
   "outputs": [
    {
     "data": {
      "text/plain": [
       "'html'"
      ]
     },
     "execution_count": 12,
     "metadata": {},
     "output_type": "execute_result"
    }
   ],
   "source": [
    "soup.title.parent.parent.name"
   ]
  },
  {
   "cell_type": "code",
   "execution_count": 13,
   "id": "0615840b",
   "metadata": {},
   "outputs": [
    {
     "data": {
      "text/plain": [
       "<div class=\"article\" id=\"I_AM_Unique\" style=\"background-color:peachpuff\">\n",
       "<p style=\"background-color:peachpuff\">Eu sou a descrição do tópico aleatório acima. Não há necessidade de me ler em tudo.\n",
       "\t\tAinda assim, se você está lendo, o problema é seu.\n",
       "\t\tVocê ainda não consegue descobrir, eu sou inútil?\n",
       "\t\tPessoal, parem de me ler agora.\n",
       "\t\tObrigado\n",
       "\t</p>\n",
       "</div>"
      ]
     },
     "execution_count": 13,
     "metadata": {},
     "output_type": "execute_result"
    }
   ],
   "source": [
    "soup.div"
   ]
  },
  {
   "cell_type": "code",
   "execution_count": 14,
   "id": "01df794e",
   "metadata": {},
   "outputs": [
    {
     "data": {
      "text/plain": [
       "['\\n',\n",
       " <p style=\"background-color:peachpuff\">Eu sou a descrição do tópico aleatório acima. Não há necessidade de me ler em tudo.\n",
       " \t\tAinda assim, se você está lendo, o problema é seu.\n",
       " \t\tVocê ainda não consegue descobrir, eu sou inútil?\n",
       " \t\tPessoal, parem de me ler agora.\n",
       " \t\tObrigado\n",
       " \t</p>,\n",
       " '\\n']"
      ]
     },
     "execution_count": 14,
     "metadata": {},
     "output_type": "execute_result"
    }
   ],
   "source": [
    "list(soup.div.children)"
   ]
  },
  {
   "cell_type": "code",
   "execution_count": 15,
   "id": "3b55cdad",
   "metadata": {},
   "outputs": [
    {
     "name": "stdout",
     "output_type": "stream",
     "text": [
      "None\n",
      "p\n",
      "None\n"
     ]
    }
   ],
   "source": [
    "for i in list(soup.div.children):\n",
    "    print(i.name)"
   ]
  },
  {
   "cell_type": "code",
   "execution_count": 16,
   "id": "b7875216",
   "metadata": {},
   "outputs": [
    {
     "data": {
      "text/plain": [
       "'Eu sou a descrição do tópico aleatório acima. Não há necessidade de me ler em tudo.\\n\\t\\tAinda assim, se você está lendo, o problema é seu.\\n\\t\\tVocê ainda não consegue descobrir, eu sou inútil?\\n\\t\\tPessoal, parem de me ler agora.\\n\\t\\tObrigado\\n\\t'"
      ]
     },
     "execution_count": 16,
     "metadata": {},
     "output_type": "execute_result"
    }
   ],
   "source": [
    "soup.p.string"
   ]
  },
  {
   "cell_type": "code",
   "execution_count": 17,
   "id": "eac7eb39",
   "metadata": {},
   "outputs": [
    {
     "data": {
      "text/plain": [
       "<a href=\"http://www.google.com\"><h3><b> Ir para o google </b></h3></a>"
      ]
     },
     "execution_count": 17,
     "metadata": {},
     "output_type": "execute_result"
    }
   ],
   "source": [
    "soup.a"
   ]
  },
  {
   "cell_type": "code",
   "execution_count": 18,
   "id": "b3917c42",
   "metadata": {},
   "outputs": [
    {
     "data": {
      "text/plain": [
       "' Ir para o google '"
      ]
     },
     "execution_count": 18,
     "metadata": {},
     "output_type": "execute_result"
    }
   ],
   "source": [
    "soup.a.string"
   ]
  },
  {
   "cell_type": "code",
   "execution_count": 19,
   "id": "ba221ef8",
   "metadata": {},
   "outputs": [
    {
     "data": {
      "text/plain": [
       "'http://www.google.com'"
      ]
     },
     "execution_count": 19,
     "metadata": {},
     "output_type": "execute_result"
    }
   ],
   "source": [
    "soup.a['href']"
   ]
  },
  {
   "cell_type": "code",
   "execution_count": 20,
   "id": "d98b679f",
   "metadata": {},
   "outputs": [
    {
     "data": {
      "text/plain": [
       "<center><h2>Sou um rodapé</h2> </center>"
      ]
     },
     "execution_count": 20,
     "metadata": {},
     "output_type": "execute_result"
    }
   ],
   "source": [
    "soup.center"
   ]
  },
  {
   "cell_type": "code",
   "execution_count": 21,
   "id": "5d887e2c",
   "metadata": {},
   "outputs": [
    {
     "data": {
      "text/plain": [
       "<div class=\"article\" id=\"I_AM_Unique\" style=\"background-color:peachpuff\">\n",
       "<p style=\"background-color:peachpuff\">Eu sou a descrição do tópico aleatório acima. Não há necessidade de me ler em tudo.\n",
       "\t\tAinda assim, se você está lendo, o problema é seu.\n",
       "\t\tVocê ainda não consegue descobrir, eu sou inútil?\n",
       "\t\tPessoal, parem de me ler agora.\n",
       "\t\tObrigado\n",
       "\t</p>\n",
       "</div>"
      ]
     },
     "execution_count": 21,
     "metadata": {},
     "output_type": "execute_result"
    }
   ],
   "source": [
    "soup.find('div')"
   ]
  },
  {
   "cell_type": "code",
   "execution_count": 22,
   "id": "24bd0f89",
   "metadata": {},
   "outputs": [
    {
     "data": {
      "text/plain": [
       "<div class=\"article\" id=\"imp_article_ID\" style=\"background-color:peachpuff\">\n",
       "<h2>Já utilizou o google hoje?</h2>\n",
       "<a href=\"http://www.google.com\"><h3><b> Ir para o google </b></h3></a>\n",
       "</div>"
      ]
     },
     "execution_count": 22,
     "metadata": {},
     "output_type": "execute_result"
    }
   ],
   "source": [
    "soup.find('div', id='imp_article_ID')"
   ]
  },
  {
   "cell_type": "code",
   "execution_count": 23,
   "id": "4dfaa788",
   "metadata": {},
   "outputs": [
    {
     "data": {
      "text/plain": [
       "<div class=\"article\" id=\"I_AM_Unique\" style=\"background-color:peachpuff\">\n",
       "<p style=\"background-color:peachpuff\">Eu sou a descrição do tópico aleatório acima. Não há necessidade de me ler em tudo.\n",
       "\t\tAinda assim, se você está lendo, o problema é seu.\n",
       "\t\tVocê ainda não consegue descobrir, eu sou inútil?\n",
       "\t\tPessoal, parem de me ler agora.\n",
       "\t\tObrigado\n",
       "\t</p>\n",
       "</div>"
      ]
     },
     "execution_count": 23,
     "metadata": {},
     "output_type": "execute_result"
    }
   ],
   "source": [
    "soup.find('div', class_='article')"
   ]
  },
  {
   "cell_type": "code",
   "execution_count": 24,
   "id": "fb20e1ca",
   "metadata": {},
   "outputs": [
    {
     "data": {
      "text/plain": [
       "[<div class=\"article\" id=\"I_AM_Unique\" style=\"background-color:peachpuff\">\n",
       " <p style=\"background-color:peachpuff\">Eu sou a descrição do tópico aleatório acima. Não há necessidade de me ler em tudo.\n",
       " \t\tAinda assim, se você está lendo, o problema é seu.\n",
       " \t\tVocê ainda não consegue descobrir, eu sou inútil?\n",
       " \t\tPessoal, parem de me ler agora.\n",
       " \t\tObrigado\n",
       " \t</p>\n",
       " </div>,\n",
       " <div class=\"article\" id=\"imp_article_ID\" style=\"background-color:peachpuff\">\n",
       " <h2>Já utilizou o google hoje?</h2>\n",
       " <a href=\"http://www.google.com\"><h3><b> Ir para o google </b></h3></a>\n",
       " </div>,\n",
       " <div class=\"article\" id=\"I_AM_AnotherDivID\" style=\"background-color:peachpuff\">\n",
       " <b>Sou apenas uma nova divisão<b><br/>\n",
       " \tQuer ir para o site do professor?\n",
       " \t<a href=\"https://www.udemy.com/user/gabriel-henrique-casemiro/\">Ir agora</a>\n",
       " </b></b></div>,\n",
       " <div class=\"article\" id=\"I_AM_AnotherDivID\" style=\"background-color:peachpuff\">\n",
       " <b>Vamos participar do grupo do curso?<b><br/>\n",
       " <a href=\"https://t.me/criandoroboscompython\">Entrar no grupo do telegram</a>\n",
       " </b></b></div>]"
      ]
     },
     "execution_count": 24,
     "metadata": {},
     "output_type": "execute_result"
    }
   ],
   "source": [
    "soup.find_all('div', class_='article')"
   ]
  },
  {
   "cell_type": "code",
   "execution_count": 25,
   "id": "4160a12a",
   "metadata": {},
   "outputs": [
    {
     "data": {
      "text/plain": [
       "4"
      ]
     },
     "execution_count": 25,
     "metadata": {},
     "output_type": "execute_result"
    }
   ],
   "source": [
    "len(soup.find_all('div', class_='article'))"
   ]
  },
  {
   "cell_type": "code",
   "execution_count": 26,
   "id": "2c415d10",
   "metadata": {},
   "outputs": [
    {
     "data": {
      "text/plain": [
       "<div class=\"article\" id=\"imp_article_ID\" style=\"background-color:peachpuff\">\n",
       "<h2>Já utilizou o google hoje?</h2>\n",
       "<a href=\"http://www.google.com\"><h3><b> Ir para o google </b></h3></a>\n",
       "</div>"
      ]
     },
     "execution_count": 26,
     "metadata": {},
     "output_type": "execute_result"
    }
   ],
   "source": [
    "soup.find_all('div', class_='article')[1]"
   ]
  },
  {
   "cell_type": "code",
   "execution_count": 27,
   "id": "43925719",
   "metadata": {},
   "outputs": [
    {
     "data": {
      "text/plain": [
       "' Ir para o google '"
      ]
     },
     "execution_count": 27,
     "metadata": {},
     "output_type": "execute_result"
    }
   ],
   "source": [
    "soup.find_all('div', class_='article')[1].a.string"
   ]
  },
  {
   "cell_type": "code",
   "execution_count": 28,
   "id": "5a62dda9",
   "metadata": {},
   "outputs": [
    {
     "data": {
      "text/plain": [
       "'http://www.google.com'"
      ]
     },
     "execution_count": 28,
     "metadata": {},
     "output_type": "execute_result"
    }
   ],
   "source": [
    "soup.find_all('div', class_='article')[1].a['href']"
   ]
  },
  {
   "cell_type": "code",
   "execution_count": 29,
   "id": "e6d7996e",
   "metadata": {},
   "outputs": [
    {
     "data": {
      "text/plain": [
       "[<a href=\"http://www.google.com\"><h3><b> Ir para o google </b></h3></a>,\n",
       " <a href=\"https://www.udemy.com/user/gabriel-henrique-casemiro/\">Ir agora</a>,\n",
       " <a href=\"https://t.me/criandoroboscompython\">Entrar no grupo do telegram</a>]"
      ]
     },
     "execution_count": 29,
     "metadata": {},
     "output_type": "execute_result"
    }
   ],
   "source": [
    "soup.find_all('a')"
   ]
  },
  {
   "cell_type": "code",
   "execution_count": 30,
   "id": "860e92b1",
   "metadata": {},
   "outputs": [
    {
     "name": "stdout",
     "output_type": "stream",
     "text": [
      "http://www.google.com\n",
      "https://www.udemy.com/user/gabriel-henrique-casemiro/\n",
      "https://t.me/criandoroboscompython\n"
     ]
    }
   ],
   "source": [
    "for i in soup.find_all('a'):\n",
    "    print(i['href'])"
   ]
  },
  {
   "cell_type": "code",
   "execution_count": 31,
   "id": "59922036",
   "metadata": {},
   "outputs": [],
   "source": [
    "html_file1 = open('data_in_table.html', mode='r', encoding='utf-8')"
   ]
  },
  {
   "cell_type": "code",
   "execution_count": 32,
   "id": "0e724c4b",
   "metadata": {},
   "outputs": [],
   "source": [
    "soup = BeautifulSoup(html_file1)"
   ]
  },
  {
   "cell_type": "code",
   "execution_count": 33,
   "id": "9a77a825",
   "metadata": {},
   "outputs": [],
   "source": [
    "table = soup.find(id='main_table')"
   ]
  },
  {
   "cell_type": "code",
   "execution_count": 34,
   "id": "625f0969",
   "metadata": {},
   "outputs": [],
   "source": [
    "table_rows = table.find_all('tr')"
   ]
  },
  {
   "cell_type": "code",
   "execution_count": 35,
   "id": "15e65421",
   "metadata": {},
   "outputs": [
    {
     "name": "stdout",
     "output_type": "stream",
     "text": [
      "[<tr> <th>Estudante ID</th> <th>Nome do Estudante</th> <th>Nota</th> </tr>, <tr>\n",
      "<td>100</td> <td>Rodrigo</td> <td>8</td>\n",
      "</tr>, <tr>\n",
      "<td>101</td> <td>Diego</td> <td>8</td>\n",
      "</tr>, <tr>\n",
      "<td>103</td> <td>Alan</td> <td>9</td>\n",
      "</tr>, <tr>\n",
      "<td>104</td> <td>Tony</td> <td>10</td>\n",
      "</tr>, <tr>\n",
      "<td>105</td> <td>Fabiano</td> <td>0</td>\n",
      "</tr>]\n"
     ]
    }
   ],
   "source": [
    "print(table_rows)"
   ]
  },
  {
   "cell_type": "code",
   "execution_count": 36,
   "id": "39899b9d",
   "metadata": {},
   "outputs": [],
   "source": [
    "dados_alunos = []"
   ]
  },
  {
   "cell_type": "code",
   "execution_count": 37,
   "id": "a0a8daa6",
   "metadata": {},
   "outputs": [
    {
     "name": "stdout",
     "output_type": "stream",
     "text": [
      "100 - Rodrigo - 8\n",
      "101 - Diego - 8\n",
      "103 - Alan - 9\n",
      "104 - Tony - 10\n",
      "105 - Fabiano - 0\n"
     ]
    }
   ],
   "source": [
    "for linha in table_rows:\n",
    "    colunas = linha.find_all('td')\n",
    "    if len(colunas) > 0:\n",
    "        codigo_estudante = colunas[0].text\n",
    "        nome_estudante = colunas[1].text\n",
    "        notas_estudante = colunas[2].text\n",
    "        dict_aluno = {\n",
    "            'codigo': codigo_estudante,\n",
    "            'nome': nome_estudante,\n",
    "            'nota': notas_estudante\n",
    "        }\n",
    "        dados_alunos.append(dict_aluno)\n",
    "        print(f'{codigo_estudante} - {nome_estudante} - {notas_estudante}')\n",
    "        \n",
    "        \n",
    "#print(dados_alunos)\n",
    "#import pdb; pdb.set_trace()"
   ]
  },
  {
   "cell_type": "code",
   "execution_count": 38,
   "id": "fc2519ac",
   "metadata": {},
   "outputs": [
    {
     "data": {
      "text/plain": [
       "{'codigo': '100', 'nome': 'Rodrigo', 'nota': '8'}"
      ]
     },
     "execution_count": 38,
     "metadata": {},
     "output_type": "execute_result"
    }
   ],
   "source": [
    "dados_alunos[0]"
   ]
  },
  {
   "cell_type": "code",
   "execution_count": 39,
   "id": "d7023d60",
   "metadata": {},
   "outputs": [
    {
     "data": {
      "text/plain": [
       "'8'"
      ]
     },
     "execution_count": 39,
     "metadata": {},
     "output_type": "execute_result"
    }
   ],
   "source": [
    "dados_alunos[0]['nota']"
   ]
  },
  {
   "cell_type": "code",
   "execution_count": 40,
   "id": "0014e1d6",
   "metadata": {},
   "outputs": [
    {
     "name": "stdout",
     "output_type": "stream",
     "text": [
      "[<tr> <th>Estudante ID</th> <th>Nome do Estudante</th> <th>Nota</th> </tr>, <tr>\n",
      "<td>100</td> <td>Rodrigo</td> <td>8</td>\n",
      "</tr>, <tr>\n",
      "<td>101</td> <td>Diego</td> <td>8</td>\n",
      "</tr>, <tr>\n",
      "<td>103</td> <td>Alan</td> <td>9</td>\n",
      "</tr>, <tr>\n",
      "<td>104</td> <td>Tony</td> <td>10</td>\n",
      "</tr>, <tr>\n",
      "<td>105</td> <td>Fabiano</td> <td>0</td>\n",
      "</tr>]\n"
     ]
    }
   ],
   "source": [
    "html_file2 = open('data_in_table_2.html', mode='r', encoding='utf-8')\n",
    "soup = BeautifulSoup(html_file2, 'html.parser')\n",
    "table1 = soup.find_all('table')[1]\n",
    "table1_rows = table.find_all('tr')\n",
    "print(table1_rows)\n"
   ]
  },
  {
   "cell_type": "code",
   "execution_count": 41,
   "id": "b0f37a4e",
   "metadata": {},
   "outputs": [
    {
     "name": "stdout",
     "output_type": "stream",
     "text": [
      "{'nome': '100', 'interesse': 'Rodrigo'}\n"
     ]
    }
   ],
   "source": [
    "dados_cursos = []\n",
    "\n",
    "for linha in table_rows:\n",
    "    colunas = linha.find_all('td')\n",
    "    if len(colunas) > 0:\n",
    "        nome_curso = colunas[0].text\n",
    "        interesse = colunas[1].text\n",
    "        dict_curso = {'nome': nome_curso, 'interesse': interesse}\n",
    "        dados_cursos.append(dict_curso)\n",
    "        \n",
    "print(dados_cursos[0])\n",
    "#import pdb;pdb.set_trace()"
   ]
  },
  {
   "cell_type": "code",
   "execution_count": 42,
   "id": "1acf8b49",
   "metadata": {},
   "outputs": [],
   "source": [
    "import requests"
   ]
  },
  {
   "cell_type": "code",
   "execution_count": 43,
   "id": "f844213b",
   "metadata": {},
   "outputs": [
    {
     "name": "stdout",
     "output_type": "stream",
     "text": [
      "\n",
      "<!DOCTYPE html>\n",
      "<html lang=\"pt-BR\">\n",
      "\n",
      "<head>\n",
      "\t<meta http-equiv=\"Content-Type\" content=\"text/html; charset=UTF-8\">\n",
      "\t<title>Gabriel Casemiro</title>\n",
      "\t<meta name=\"description\" content=\"Gabriel Casemiro\">\n",
      "\t<meta name=\"viewport\" content=\"width=device-width, initial-scale=1, maximum-scale=1\">\n",
      "\t<link rel=\"shortcut icon\" type=\"image/x-icon\" href=\"/static/images/mini_logo.png\">\n",
      "\n",
      "\t<!-- STYLESHEETS -->\n",
      "\t<link rel=\"stylesheet\" href=\"/static/css/bootstrap.min.css\" type=\"text/css\" media=\"all\">\n",
      "\t<link rel=\"stylesheet\" href=\"/static/css/all.min.css\" type=\"text/css\" media=\"all\">\n",
      "\t<link rel=\"stylesheet\" href=\"/static/css/simple-line-icons.css\" type=\"text/css\" media=\"all\">\n",
      "\t<link rel=\"stylesheet\" href=\"/static/css/slick.css\" type=\"text/css\" media=\"all\">\n",
      "\t<link rel=\"stylesheet\" href=\"/static/css/animate.css\" type=\"text/css\" media=\"all\">\n",
      "\t<link rel=\"stylesheet\" href=\"/static/css/magnific-popup.css\" type=\"text/css\" media=\"all\">\n",
      "\t<link rel=\"stylesheet\" href=\"/static/css/style.css\" type=\"text/css\" media=\"all\">\n",
      "\n",
      "\t<!--[if lt IE 9]>\n",
      "      <script src=\"https://oss.maxcdn.com/html5shiv/3.7.2/html5shiv.min.js\"></script>\n",
      "      <script src=\"https://oss.maxcdn.com/respond/1.4.2/respond.min.js\"></script>\n",
      "    <![endif]-->\n",
      "\n",
      "</head>\n",
      "\n",
      "<body>\n",
      "\n",
      "\t<!-- Preloader -->\n",
      "\t<div id=\"preloader\">\n",
      "\t\t<div class=\"outer\">\n",
      "\t\t\t<!-- Google Chrome -->\n",
      "\t\t\t<div class=\"infinityChrome\">\n",
      "\t\t\t\t<div></div>\n",
      "\t\t\t\t<div></div>\n",
      "\t\t\t\t<div></div>\n",
      "\t\t\t</div>\n",
      "\n",
      "\t\t\t<!-- Safari and others -->\n",
      "\t\t\t<div class=\"infinity\">\n",
      "\t\t\t\t<div>\n",
      "\t\t\t\t\t<span></span>\n",
      "\t\t\t\t</div>\n",
      "\t\t\t\t<div>\n",
      "\t\t\t\t\t<span></span>\n",
      "\t\t\t\t</div>\n",
      "\t\t\t\t<div>\n",
      "\t\t\t\t\t<span></span>\n",
      "\t\t\t\t</div>\n",
      "\t\t\t</div>\n",
      "\t\t\t<!-- Stuff -->\n",
      "\t\t\t<svg xmlns=\"http://www.w3.org/2000/svg\" version=\"1.1\" class=\"goo-outer\">\n",
      "\t\t\t\t<defs>\n",
      "\t\t\t\t\t<filter id=\"goo\">\n",
      "\t\t\t\t\t\t<feGaussianBlur in=\"SourceGraphic\" stdDeviation=\"6\" result=\"blur\" />\n",
      "\t\t\t\t\t\t<feColorMatrix in=\"blur\" values=\"1 0 0 0 0  0 1 0 0 0  0 0 1 0 0  0 0 0 18 -7\" result=\"goo\" />\n",
      "\t\t\t\t\t\t<feBlend in=\"SourceGraphic\" in2=\"goo\" />\n",
      "\t\t\t\t\t</filter>\n",
      "\t\t\t\t</defs>\n",
      "\t\t\t</svg>\n",
      "\t\t</div>\n",
      "\t</div>\n",
      "\n",
      "\t<!-- mobile header -->\n",
      "\t<header class=\"mobile-header-1\">\n",
      "\t\t<div class=\"container\">\n",
      "\t\t\t<!-- menu icon -->\n",
      "\t\t\t<div class=\"menu-icon d-inline-flex mr-4\">\n",
      "\t\t\t\t<button>\n",
      "\t\t\t\t\t<span></span>\n",
      "\t\t\t\t</button>\n",
      "\t\t\t</div>\n",
      "\t\t\t<!-- logo image -->\n",
      "\t\t\t<div class=\"site-logo\">\n",
      "\t\t\t\t<a href=\"/\">\n",
      "\t\t\t\t\t<img src=\"/static/images/logo.png\" alt=\"logo\" />\n",
      "\t\t\t\t</a>\n",
      "\t\t\t</div>\n",
      "\t\t</div>\n",
      "\t</header>\n",
      "\n",
      "\t<!-- desktop header -->\n",
      "\t<header class=\"desktop-header-1 d-flex align-items-start flex-column\">\n",
      "\n",
      "\t\t<!-- logo image -->\n",
      "\t\t<div class=\"site-logo\">\n",
      "\t\t\t<a href=\"/\">\n",
      "\t\t\t\t<img src=\"/static/images/logo.png\" alt=\"logo\" />\n",
      "\t\t\t</a>\n",
      "\t\t</div>\n",
      "\n",
      "\t\t<!-- main menu -->\n",
      "\t\t<nav>\n",
      "\t\t\t<ul class=\"vertical-menu scrollspy\">\n",
      "\t\t\t\t<li class=\"active\"><a href=\"#home\"><i class=\"icon-home\"></i>Home</a></li>\n",
      "\t\t\t\t<li><a href=\"#about\"><i class=\"icon-user-following\"></i>About</a></li>\n",
      "\t\t\t\t<li><a href=\"#experience\"><i class=\"icon-graduation\"></i>Experience</a></li>\n",
      "\t\t\t\t<li><a href=\"#works\"><i class=\"icon-layers\"></i>Works</a></li>\n",
      "\t\t\t\t<li><a href=\"#youtube\" target=\"_blank\"><i class=\"icon-social-youtube\"></i>Youtube</a></li>\n",
      "\t\t\t\t<li><a href=\"#contact\"><i class=\"icon-bubbles\"></i>Contact</a></li>\n",
      "\t\t\t</ul>\n",
      "\t\t</nav>\n",
      "\n",
      "\t\t<!-- site footer -->\n",
      "\t\t<div class=\"footer\">\n",
      "\t\t\t<!-- copyright text -->\n",
      "\t\t\t<span class=\"copyright\">© 2025 Gabriel Casemiro.</span>\n",
      "\t\t</div>\n",
      "\n",
      "\t</header>\n",
      "\n",
      "\t<!-- main layout -->\n",
      "\t<main class=\"content\">\n",
      "\n",
      "\t\t<!-- section home -->\n",
      "\t\t<section id=\"home\" class=\"home d-flex align-items-center\">\n",
      "\t\t\t<div class=\"container\">\n",
      "\n",
      "\t\t\t\t<!-- intro -->\n",
      "\t\t\t\t<div class=\"intro\">\n",
      "\n",
      "\t\t\t\t\t<div style=\"position: fixed; top: 20px; right: 20px; z-index: 9999;\">\n",
      "\t\t\t\t\t\t<a href=\"/pt/\"><img src=\"/static/images/flag-br.png\" alt=\"Português\"\n",
      "\t\t\t\t\t\t\t\tstyle=\"width: 42px; margin-right: 8px;\" class=\"img-hover-lang\"></a>\n",
      "\t\t\t\t\t\t<a href=\"/en/\"><img src=\"/static/images/flag-us.png\" alt=\"English\" style=\"width: 42px;\"\n",
      "\t\t\t\t\t\t\t\tclass=\"img-hover-lang\"></a>\n",
      "\t\t\t\t\t</div>\n",
      "\t\t\t\t\t<!-- avatar image -->\n",
      "\t\t\t\t\t<img src=\"/static/images/foto-1.png\" alt=\"Gabriel\" class=\"mb-4 circle rounded\"\n",
      "\t\t\t\t\t\tstyle=\"width:225px\" />\n",
      "\n",
      "\t\t\t\t\t<!-- info -->\n",
      "\t\t\t\t\t<h1 class=\"mb-2 mt-0\">Gabriel Casemiro</h1>\n",
      "\t\t\t\t\t<span>I'm <span class=\"text-rotating\">Data Engineer, Python Developer, Programming\n",
      "\t\t\t\t\t\t\tTeacher</span></span>\n",
      "\n",
      "\t\t\t\t\t<!-- social icons -->\n",
      "\t\t\t\t\t<ul class=\"social-icons light list-inline mb-0 mt-4\">\n",
      "\t\t\t\t\t\t<li class=\"list-inline-item\"><a href=\"https://t.me/gcasemiro\"><i\n",
      "\t\t\t\t\t\t\t\t\tclass=\"fab fa-telegram\"></i></a></li>\n",
      "\t\t\t\t\t\t<li class=\"list-inline-item\"><a href=\"https://github.com/GabrielCasemiro\"><i\n",
      "\t\t\t\t\t\t\t\t\tclass=\"fab fa-git\"></i></a></li>\n",
      "\t\t\t\t\t\t<li class=\"list-inline-item\"><a\n",
      "\t\t\t\t\t\t\t\thref=\"https://www.linkedin.com/in/gabriel-casemiro-74a89b128/\"><i\n",
      "\t\t\t\t\t\t\t\t\tclass=\"fab fa-linkedin\"></i></a></li>\n",
      "\t\t\t\t\t\t<li class=\"list-inline-item\"><a href=\"https://www.youtube.com/@casedev\" target=\"_blank\"><i\n",
      "\t\t\t\t\t\t\t\t\tclass=\"icon-social-youtube\"></i></a></li>\n",
      "\t\t\t\t\t</ul>\n",
      "\t\t\t\t</div>\n",
      "\n",
      "\t\t\t\t<!-- scroll down mouse wheel -->\n",
      "\t\t\t\t<div class=\"scroll-down\">\n",
      "\t\t\t\t\t<a href=\"#about\" class=\"mouse-wrapper\">\n",
      "\t\t\t\t\t\t<br>\n",
      "\t\t\t\t\t\t<span>Read more</span>\n",
      "\t\t\t\t\t\t<span class=\"mouse\">\n",
      "\t\t\t\t\t\t\t<span class=\"wheel\"></span>\n",
      "\t\t\t\t\t\t</span>\n",
      "\t\t\t\t\t</a>\n",
      "\t\t\t\t</div>\n",
      "\n",
      "\t\t\t\t<!-- parallax layers -->\n",
      "\t\t\t\t<div class=\"parallax\" data-relative-input=\"true\">\n",
      "\n",
      "\t\t\t\t\t<svg width=\"27\" height=\"29\" data-depth=\"0.3\" class=\"layer p1\" xmlns=\"http://www.w3.org/2000/svg\">\n",
      "\t\t\t\t\t\t<path\n",
      "\t\t\t\t\t\t\td=\"M21.15625.60099c4.37954 3.67487 6.46544 9.40612 5.47254 15.03526-.9929 5.62915-4.91339 10.30141-10.2846 12.25672-5.37122 1.9553-11.3776.89631-15.75715-2.77856l2.05692-2.45134c3.50315 2.93948 8.3087 3.78663 12.60572 2.22284 4.297-1.5638 7.43381-5.30209 8.22768-9.80537.79387-4.50328-.8749-9.08872-4.37803-12.02821L21.15625.60099z\"\n",
      "\t\t\t\t\t\t\tfill=\"#FFD15C\" fill-rule=\"evenodd\" />\n",
      "\t\t\t\t\t</svg>\n",
      "\n",
      "\t\t\t\t\t<svg width=\"26\" height=\"26\" data-depth=\"0.2\" class=\"layer p2\" xmlns=\"http://www.w3.org/2000/svg\">\n",
      "\t\t\t\t\t\t<path d=\"M13 3.3541L2.42705 24.5h21.1459L13 3.3541z\" stroke=\"#FF4C60\" stroke-width=\"3\"\n",
      "\t\t\t\t\t\t\tfill=\"none\" fill-rule=\"evenodd\" />\n",
      "\t\t\t\t\t</svg>\n",
      "\n",
      "\t\t\t\t\t<svg width=\"30\" height=\"25\" data-depth=\"0.3\" class=\"layer p3\" xmlns=\"http://www.w3.org/2000/svg\">\n",
      "\t\t\t\t\t\t<path\n",
      "\t\t\t\t\t\t\td=\"M.1436 8.9282C3.00213 3.97706 8.2841.92763 14.00013.92796c5.71605.00032 10.9981 3.04992 13.85641 8 2.8583 4.95007 2.8584 11.0491-.00014 16.00024l-2.77128-1.6c2.28651-3.96036 2.28631-8.84002.00011-12.8002-2.2862-3.96017-6.5124-6.40017-11.08513-6.4-4.57271.00018-8.79872 2.43984-11.08524 6.4002l-2.77128-1.6z\"\n",
      "\t\t\t\t\t\t\tfill=\"#44D7B6\" fill-rule=\"evenodd\" />\n",
      "\t\t\t\t\t</svg>\n",
      "\n",
      "\t\t\t\t\t<svg width=\"15\" height=\"23\" data-depth=\"0.6\" class=\"layer p4\" xmlns=\"http://www.w3.org/2000/svg\">\n",
      "\t\t\t\t\t\t<rect transform=\"rotate(30 9.86603 10.13397)\" x=\"7\" width=\"3\" height=\"25\" rx=\"1.5\"\n",
      "\t\t\t\t\t\t\tfill=\"#FFD15C\" fill-rule=\"evenodd\" />\n",
      "\t\t\t\t\t</svg>\n",
      "\n",
      "\t\t\t\t\t<svg width=\"15\" height=\"23\" data-depth=\"0.2\" class=\"layer p5\" xmlns=\"http://www.w3.org/2000/svg\">\n",
      "\t\t\t\t\t\t<rect transform=\"rotate(30 9.86603 10.13397)\" x=\"7\" width=\"3\" height=\"25\" rx=\"1.5\"\n",
      "\t\t\t\t\t\t\tfill=\"#6C6CE5\" fill-rule=\"evenodd\" />\n",
      "\t\t\t\t\t</svg>\n",
      "\n",
      "\t\t\t\t\t<svg width=\"49\" height=\"17\" data-depth=\"0.5\" class=\"layer p6\" xmlns=\"http://www.w3.org/2000/svg\">\n",
      "\t\t\t\t\t\t<g fill=\"#FF4C60\" fill-rule=\"evenodd\">\n",
      "\t\t\t\t\t\t\t<path\n",
      "\t\t\t\t\t\t\t\td=\"M.5 16.5c0-5.71709 2.3825-10.99895 6.25-13.8567 3.8675-2.85774 8.6325-2.85774 12.5 0C23.1175 5.50106 25.5 10.78292 25.5 16.5H23c0-4.57303-1.90625-8.79884-5-11.08535-3.09375-2.28652-6.90625-2.28652-10 0C4.90625 7.70116 3 11.92697 3 16.5H.5z\" />\n",
      "\t\t\t\t\t\t\t<path\n",
      "\t\t\t\t\t\t\t\td=\"M23.5 16.5c0-5.71709 2.3825-10.99895 6.25-13.8567 3.8675-2.85774 8.6325-2.85774 12.5 0C46.1175 5.50106 48.5 10.78292 48.5 16.5H46c0-4.57303-1.90625-8.79884-5-11.08535-3.09375-2.28652-6.90625-2.28652-10 0-3.09375 2.28651-5 6.51232-5 11.08535h-2.5z\" />\n",
      "\t\t\t\t\t\t</g>\n",
      "\t\t\t\t\t</svg>\n",
      "\n",
      "\t\t\t\t\t<svg width=\"26\" height=\"26\" data-depth=\"0.4\" class=\"layer p7\" xmlns=\"http://www.w3.org/2000/svg\">\n",
      "\t\t\t\t\t\t<path d=\"M13 22.6459L2.42705 1.5h21.1459L13 22.6459z\" stroke=\"#FFD15C\" stroke-width=\"3\"\n",
      "\t\t\t\t\t\t\tfill=\"none\" fill-rule=\"evenodd\" />\n",
      "\t\t\t\t\t</svg>\n",
      "\n",
      "\t\t\t\t\t<svg width=\"19\" height=\"21\" data-depth=\"0.3\" class=\"layer p8\" xmlns=\"http://www.w3.org/2000/svg\">\n",
      "\t\t\t\t\t\t<rect transform=\"rotate(-40 6.25252 10.12626)\" x=\"7\" width=\"3\" height=\"25\" rx=\"1.5\"\n",
      "\t\t\t\t\t\t\tfill=\"#6C6CE5\" fill-rule=\"evenodd\" />\n",
      "\t\t\t\t\t</svg>\n",
      "\n",
      "\t\t\t\t\t<svg width=\"30\" height=\"25\" data-depth=\"0.3\" data-depth-y=\"-1.30\" class=\"layer p9\"\n",
      "\t\t\t\t\t\txmlns=\"http://www.w3.org/2000/svg\">\n",
      "\t\t\t\t\t\t<path\n",
      "\t\t\t\t\t\t\td=\"M29.8564 16.0718c-2.85854 4.95114-8.1405 8.00057-13.85654 8.00024-5.71605-.00032-10.9981-3.04992-13.85641-8-2.8583-4.95007-2.8584-11.0491.00014-16.00024l2.77128 1.6c-2.28651 3.96036-2.28631 8.84002-.00011 12.8002 2.2862 3.96017 6.5124 6.40017 11.08513 6.4 4.57271-.00018 8.79872-2.43984 11.08524-6.4002l2.77128 1.6z\"\n",
      "\t\t\t\t\t\t\tfill=\"#6C6CE5\" fill-rule=\"evenodd\" />\n",
      "\t\t\t\t\t</svg>\n",
      "\n",
      "\t\t\t\t\t<svg width=\"47\" height=\"29\" data-depth=\"0.2\" class=\"layer p10\" xmlns=\"http://www.w3.org/2000/svg\">\n",
      "\t\t\t\t\t\t<g fill=\"#44D7B6\" fill-rule=\"evenodd\">\n",
      "\t\t\t\t\t\t\t<path\n",
      "\t\t\t\t\t\t\t\td=\"M46.78878 17.19094c-1.95535 5.3723-6.00068 9.52077-10.61234 10.8834-4.61167 1.36265-9.0893-.26708-11.74616-4.27524-2.65686-4.00817-3.08917-9.78636-1.13381-15.15866l2.34923.85505c-1.56407 4.29724-1.2181 8.92018.90705 12.12693 2.12514 3.20674 5.70772 4.5107 9.39692 3.4202 3.68921-1.0905 6.92581-4.40949 8.48988-8.70673l2.34923.85505z\" />\n",
      "\t\t\t\t\t\t\t<path\n",
      "\t\t\t\t\t\t\t\td=\"M25.17585 9.32448c-1.95535 5.3723-6.00068 9.52077-10.61234 10.8834-4.61167 1.36264-9.0893-.26708-11.74616-4.27525C.16049 11.92447-.27182 6.14628 1.68354.77398l2.34923.85505c-1.56407 4.29724-1.2181 8.92018.90705 12.12692 2.12514 3.20675 5.70772 4.5107 9.39692 3.4202 3.68921-1.0905 6.92581-4.40948 8.48988-8.70672l2.34923.85505z\" />\n",
      "\t\t\t\t\t\t</g>\n",
      "\t\t\t\t\t</svg>\n",
      "\n",
      "\t\t\t\t\t<svg width=\"33\" height=\"20\" data-depth=\"0.5\" class=\"layer p11\" xmlns=\"http://www.w3.org/2000/svg\">\n",
      "\t\t\t\t\t\t<path\n",
      "\t\t\t\t\t\t\td=\"M32.36774.34317c.99276 5.63023-1.09332 11.3614-5.47227 15.03536-4.37895 3.67396-10.3855 4.73307-15.75693 2.77837C5.76711 16.2022 1.84665 11.53014.8539 5.8999l3.15139-.55567c.7941 4.50356 3.93083 8.24147 8.22772 9.8056 4.29688 1.56413 9.10275.71673 12.60554-2.2227C28.34133 9.98771 30.01045 5.4024 29.21635.89884l3.15139-.55567z\"\n",
      "\t\t\t\t\t\t\tfill=\"#FFD15C\" fill-rule=\"evenodd\" />\n",
      "\t\t\t\t\t</svg>\n",
      "\n",
      "\t\t\t\t</div>\n",
      "\t\t\t</div>\n",
      "\n",
      "\t\t</section>\n",
      "\t\t<!-- section about -->\n",
      "\t\t<section id=\"about\">\n",
      "\n",
      "\t\t\t<div class=\"container\">\n",
      "\n",
      "\t\t\t\t<!-- section title -->\n",
      "\t\t\t\t<h2 class=\"section-title wow fadeInUp\">About Me</h2>\n",
      "\n",
      "\t\t\t\t<div class=\"spacer\" data-height=\"60\"></div>\n",
      "\n",
      "\t\t\t\t<div class=\"row\">\n",
      "\n",
      "\t\t\t\t\t<div class=\"col-md-3\">\n",
      "\t\t\t\t\t\t<div class=\"text-center text-md-left\">\n",
      "\t\t\t\t\t\t\t<!-- avatar image -->\n",
      "\t\t\t\t\t\t\t<img src=\"/static/images/foto.png\" alt=\"Gabriel\" class=\"mb-4 circle\"\n",
      "\t\t\t\t\t\t\t\tstyle=\"width:200px\" />\n",
      "\t\t\t\t\t\t</div>\n",
      "\t\t\t\t\t\t<div class=\"spacer d-md-none d-lg-none\" data-height=\"30\"></div>\n",
      "\t\t\t\t\t</div>\n",
      "\n",
      "\t\t\t\t\t<div class=\"col-md-9 triangle-left-md triangle-top-sm\">\n",
      "\t\t\t\t\t\t<div class=\"rounded bg-white shadow-dark padding-30\">\n",
      "\t\t\t\t\t\t\t<div class=\"row\">\n",
      "\t\t\t\t\t\t\t\t<div class=\"col-md-12\">\n",
      "\t\t\t\t\t\t\t\t\t<!-- about text -->\n",
      "\t\t\t\t\t\t\t\t\t<p>Nice to meet you! I'm Gabriel. I currently work as a Data Engineer at Hippo\n",
      "\t\t\t\t\t\t\t\t\t\t(US-NY), where I build and optimize data pipelines using Airflow, Spark, Pandas,\n",
      "\t\t\t\t\t\t\t\t\t\tand AWS. I collaborate with frontend, backend, AI, and business teams to enhance\n",
      "\t\t\t\t\t\t\t\t\t\tthe data platform, develop new features, and ensure data quality and\n",
      "\t\t\t\t\t\t\t\t\t\treliability, empowering better products and data-driven decisions. I also teach\n",
      "\t\t\t\t\t\t\t\t\t\tonline programming courses for developers. Regarding my educational background,\n",
      "\t\t\t\t\t\t\t\t\t\tI hold a Bachelor's degree in Information Systems from the University of\n",
      "\t\t\t\t\t\t\t\t\t\tCampinas (UNICAMP) and a postgraduate MBA in Software Engineering from\n",
      "\t\t\t\t\t\t\t\t\t\tUSP/ESALQ. I am passionate about programming, but I also enjoy reading, working\n",
      "\t\t\t\t\t\t\t\t\t\tout, and practicing martial arts.</p>\n",
      "\t\t\t\t\t\t\t\t\t<a href=\"https://www.linkedin.com/in/gabriel-casemiro-74a89b128/\"><i\n",
      "\t\t\t\t\t\t\t\t\t\t\tclass=\"fab fa-linkedin text-dark\"></i></a>\n",
      "\t\t\t\t\t\t\t\t\t<!-- <div class=\"mt-3\">\n",
      "\t\t\t\t\t\t\t\t\t\t<a href=\"#\" class=\"btn btn-default\">Download CV</a>\n",
      "\t\t\t\t\t\t\t\t\t</div> -->\n",
      "\t\t\t\t\t\t\t\t\t<div class=\"spacer d-md-none d-lg-none\" data-height=\"30\"></div>\n",
      "\t\t\t\t\t\t\t\t</div>\n",
      "\t\t\t\t\t\t\t</div>\n",
      "\t\t\t\t\t\t</div>\n",
      "\t\t\t\t\t</div>\n",
      "\n",
      "\t\t\t\t</div>\n",
      "\t\t\t\t<!-- row end -->\n",
      "\n",
      "\t\t\t\t<div class=\"spacer\" data-height=\"70\"></div>\n",
      "\n",
      "\t\t\t\t<div class=\"row mt-5\">\n",
      "\n",
      "\t\t\t\t\t<div class=\"col-md-3 col-sm-6\">\n",
      "\t\t\t\t\t\t<!-- fact item -->\n",
      "\t\t\t\t\t\t<div class=\"fact-item\">\n",
      "\t\t\t\t\t\t\t<span class=\"icon icon-fire\"></span>\n",
      "\t\t\t\t\t\t\t<div class=\"details\">\n",
      "\t\t\t\t\t\t\t\t<h3 class=\"mb-0 mt-0 number\"><em class=\"count\">7</em></h3>\n",
      "\t\t\t\t\t\t\t\t<p class=\"mb-0\">Published courses</p>\n",
      "\t\t\t\t\t\t\t</div>\n",
      "\t\t\t\t\t\t</div>\n",
      "\t\t\t\t\t\t<div class=\"spacer d-md-none d-lg-none\" data-height=\"30\"></div>\n",
      "\t\t\t\t\t</div>\n",
      "\n",
      "\t\t\t\t\t<div class=\"col-md-3 col-sm-6\">\n",
      "\t\t\t\t\t\t<!-- fact item -->\n",
      "\t\t\t\t\t\t<div class=\"fact-item\">\n",
      "\t\t\t\t\t\t\t<span class=\"icon icon-cup\"></span>\n",
      "\t\t\t\t\t\t\t<div class=\"details\">\n",
      "\t\t\t\t\t\t\t\t<h3 class=\"mb-0 mt-0 number\"><em class=\"count\">23,670</em></h3>\n",
      "\t\t\t\t\t\t\t\t<p class=\"mb-0\">Cups of coffee</p>\n",
      "\t\t\t\t\t\t\t</div>\n",
      "\t\t\t\t\t\t</div>\n",
      "\t\t\t\t\t\t<div class=\"spacer d-md-none d-lg-none\" data-height=\"30\"></div>\n",
      "\t\t\t\t\t</div>\n",
      "\n",
      "\t\t\t\t\t<div class=\"col-md-3 col-sm-6\">\n",
      "\t\t\t\t\t\t<!-- fact item -->\n",
      "\t\t\t\t\t\t<div class=\"fact-item\">\n",
      "\t\t\t\t\t\t\t<span class=\"icon icon-people\"></span>\n",
      "\t\t\t\t\t\t\t<div class=\"details\">\n",
      "\t\t\t\t\t\t\t\t<h3 class=\"mb-0 mt-0 number\"><em class=\"count\">9,480</em></h3>\n",
      "\t\t\t\t\t\t\t\t<p class=\"mb-0\">Students</p>\n",
      "\t\t\t\t\t\t\t</div>\n",
      "\t\t\t\t\t\t</div>\n",
      "\t\t\t\t\t\t<div class=\"spacer d-md-none d-lg-none\" data-height=\"30\"></div>\n",
      "\t\t\t\t\t</div>\n",
      "\n",
      "\t\t\t\t\t<div class=\"col-md-3 col-sm-6\">\n",
      "\t\t\t\t\t\t<!-- fact item -->\n",
      "\t\t\t\t\t\t<div class=\"fact-item\">\n",
      "\t\t\t\t\t\t\t<span class=\"icon icon-badge\"></span>\n",
      "\t\t\t\t\t\t\t<div class=\"details\">\n",
      "\t\t\t\t\t\t\t\t<h3 class=\"mb-0 mt-0 number\"><em class=\"count\">1,431</em></h3>\n",
      "\t\t\t\t\t\t\t\t<p class=\"mb-0\">Reviews</p>\n",
      "\t\t\t\t\t\t\t</div>\n",
      "\t\t\t\t\t\t</div>\n",
      "\t\t\t\t\t</div>\n",
      "\n",
      "\t\t\t\t</div>\n",
      "\n",
      "\t\t\t</div>\n",
      "\n",
      "\t\t</section>\n",
      "\n",
      "\t\t<!-- section experience -->\n",
      "\t\t<section id=\"experience\">\n",
      "\n",
      "\t\t\t<div class=\"container\">\n",
      "\n",
      "\t\t\t\t<!-- section title -->\n",
      "\t\t\t\t<h2 class=\"section-title wow fadeInUp\">Experience</h2>\n",
      "\n",
      "\t\t\t\t<div class=\"spacer\" data-height=\"60\"></div>\n",
      "\n",
      "\t\t\t\t<div class=\"row\">\n",
      "\n",
      "\t\t\t\t\t<div class=\"col-md-6\">\n",
      "\n",
      "\t\t\t\t\t\t<!-- timeline wrapper -->\n",
      "\t\t\t\t\t\t<div class=\"timeline edu bg-white rounded shadow-dark padding-30 overflow-hidden\">\n",
      "\n",
      "\t\t\t\t\t\t\t<!-- timeline item -->\n",
      "\t\t\t\t\t\t\t<div class=\"timeline-container wow fadeInUp\">\n",
      "\t\t\t\t\t\t\t\t<div class=\"content\">\n",
      "\t\t\t\t\t\t\t\t\t<span class=\"time\">2023 - 2025</span>\n",
      "\t\t\t\t\t\t\t\t\t<h3 class=\"title\">MBA in Software Engineering, <a\n",
      "\t\t\t\t\t\t\t\t\t\t\thref=\"https://www.linkedin.com/school/mbauspesalq/\" target=\"_blank\">MBA\n",
      "\t\t\t\t\t\t\t\t\t\t\tUSP/Esalq</a></h3>\n",
      "\t\t\t\t\t\t\t\t\t<p>Main topics covered during the MBA:</p>\n",
      "\t\t\t\t\t\t\t\t\t<ul>\n",
      "\t\t\t\t\t\t\t\t\t\t<li>- Backend and Frontend Software Development</li>\n",
      "\t\t\t\t\t\t\t\t\t\t<li>- DevOps Concepts and Practices</li>\n",
      "\t\t\t\t\t\t\t\t\t\t<li>- Cloud Computing Management</li>\n",
      "\t\t\t\t\t\t\t\t\t\t<li>- Infrastructure as Code (IaC)</li>\n",
      "\t\t\t\t\t\t\t\t\t\t<li>- Agile Methodologies</li>\n",
      "\t\t\t\t\t\t\t\t\t\t<li>- User Experience (UX)</li>\n",
      "\t\t\t\t\t\t\t\t\t\t<li>- Information Security Fundamentals</li>\n",
      "\t\t\t\t\t\t\t\t\t\t<li>- Data Engineering</li>\n",
      "\t\t\t\t\t\t\t\t\t\t<li>- Machine Learning and Deep Learning</li>\n",
      "\t\t\t\t\t\t\t\t\t\t<li>- Data Warehousing and Big Data</li>\n",
      "\t\t\t\t\t\t\t\t\t\t<li>- Blockchain and Cryptocurrencies</li>\n",
      "\t\t\t\t\t\t\t\t\t\t<li>- Mobile Architecture</li>\n",
      "\t\t\t\t\t\t\t\t\t\t<li>- Leadership</li>\n",
      "\t\t\t\t\t\t\t\t\t\t<li>- Emotional Intelligence</li>\n",
      "\t\t\t\t\t\t\t\t\t\t<li>- Conflict Management</li>\n",
      "\t\t\t\t\t\t\t\t\t\t<li>- Design Thinking and Business Planning</li>\n",
      "\t\t\t\t\t\t\t\t\t\t<li>- Design Patterns</li>\n",
      "\t\t\t\t\t\t\t\t\t\t<li>- NoSQL vs SQL</li>\n",
      "\t\t\t\t\t\t\t\t\t\t<li>- Software Development Paradigms</li>\n",
      "\t\t\t\t\t\t\t\t\t\t<li>- API Management and Structuring</li>\n",
      "\t\t\t\t\t\t\t\t\t\t<li>- Internet of Things (IoT)</li>\n",
      "\t\t\t\t\t\t\t\t\t</ul>\n",
      "\t\t\t\t\t\t\t\t</div>\n",
      "\t\t\t\t\t\t\t</div>\n",
      "\n",
      "\t\t\t\t\t\t\t<div class=\"timeline-container wow fadeInUp\">\n",
      "\t\t\t\t\t\t\t\t<div class=\"content\">\n",
      "\t\t\t\t\t\t\t\t\t<span class=\"time\">2022</span>\n",
      "\t\t\t\t\t\t\t\t\t<h3 class=\"title\">Software Architecture Mentorship, <a\n",
      "\t\t\t\t\t\t\t\t\t\t\thref=\"https://www.linkedin.com/company/eximiaco/\" target=\"_blank\">Eximia\n",
      "\t\t\t\t\t\t\t\t\t\t\tCo</a></h3>\n",
      "\t\t\t\t\t\t\t\t\t<p>Completed a 4-month mentorship program on Software Architecture, including 36\n",
      "\t\t\t\t\t\t\t\t\t\tsessions focused on designing resilient and efficient systems.</p>\n",
      "\t\t\t\t\t\t\t\t</div>\n",
      "\t\t\t\t\t\t\t</div>\n",
      "\n",
      "\t\t\t\t\t\t\t<div class=\"timeline-container wow fadeInUp\">\n",
      "\t\t\t\t\t\t\t\t<div class=\"content\">\n",
      "\t\t\t\t\t\t\t\t\t<span class=\"time\">2016 - 2020</span>\n",
      "\t\t\t\t\t\t\t\t\t<h3 class=\"title\">Bachelor's Degree in Information Systems, <a\n",
      "\t\t\t\t\t\t\t\t\t\t\thref=\"https://www.linkedin.com/school/universidade-estadual-de-campinas/\"\n",
      "\t\t\t\t\t\t\t\t\t\t\ttarget=\"_blank\">UNICAMP</a></h3>\n",
      "\t\t\t\t\t\t\t\t\t<p>Completed my undergraduate studies at the University of Campinas (UNICAMP) in\n",
      "\t\t\t\t\t\t\t\t\t\tLimeira - São Paulo, Brazil.</p>\n",
      "\t\t\t\t\t\t\t\t\t<a href=\"/static/images/certs/diploma_unicamp.jpeg\" target=\"_blank\"><i\n",
      "\t\t\t\t\t\t\t\t\t\t\tclass=\"icon-doc\"></i></a>\n",
      "\t\t\t\t\t\t\t\t</div>\n",
      "\t\t\t\t\t\t\t</div>\n",
      "\n",
      "\t\t\t\t\t\t\t<div class=\"timeline-container wow fadeInUp\">\n",
      "\t\t\t\t\t\t\t\t<div class=\"content\">\n",
      "\t\t\t\t\t\t\t\t\t<span class=\"time\">2018</span>\n",
      "\t\t\t\t\t\t\t\t\t<h3 class=\"title\">Bootstrap 4: Responsive Design, <a\n",
      "\t\t\t\t\t\t\t\t\t\t\thref=\"https://www.linkedin.com/school/senacsaopaulo/\"\n",
      "\t\t\t\t\t\t\t\t\t\t\ttarget=\"_blank\">SENAC</a></h3>\n",
      "\t\t\t\t\t\t\t\t\t<p>Specialization course focused on Bootstrap 4 responsive design development.</p>\n",
      "\t\t\t\t\t\t\t\t</div>\n",
      "\t\t\t\t\t\t\t</div>\n",
      "\n",
      "\t\t\t\t\t\t\t<div class=\"timeline-container wow fadeInUp\">\n",
      "\t\t\t\t\t\t\t\t<div class=\"content\">\n",
      "\t\t\t\t\t\t\t\t\t<span class=\"time\">2013 - 2015</span>\n",
      "\t\t\t\t\t\t\t\t\t<h3 class=\"title\">Web Designer Course, <a\n",
      "\t\t\t\t\t\t\t\t\t\t\thref=\"https://www.linkedin.com/company/microcamp/\"\n",
      "\t\t\t\t\t\t\t\t\t\t\ttarget=\"_blank\">MICROCAMP</a></h3>\n",
      "\t\t\t\t\t\t\t\t\t<p>My first professional course in web development, focusing on building websites\n",
      "\t\t\t\t\t\t\t\t\t\tfor small and medium businesses.</p>\n",
      "\t\t\t\t\t\t\t\t</div>\n",
      "\t\t\t\t\t\t\t</div>\n",
      "\n",
      "\t\t\t\t\t\t\t<!-- main line -->\n",
      "\t\t\t\t\t\t\t<span class=\"line\"></span>\n",
      "\n",
      "\t\t\t\t\t\t</div>\n",
      "\n",
      "\t\t\t\t\t</div>\n",
      "\n",
      "\t\t\t\t\t<div class=\"col-md-6\">\n",
      "\n",
      "\t\t\t\t\t\t<!-- responsive spacer -->\n",
      "\t\t\t\t\t\t<div class=\"spacer d-md-none d-lg-none\" data-height=\"30\"></div>\n",
      "\n",
      "\t\t\t\t\t\t<!-- timeline wrapper -->\n",
      "\t\t\t\t\t\t<div class=\"timeline exp bg-white rounded shadow-dark padding-30 overflow-hidden\">\n",
      "\n",
      "\t\t\t\t\t\t\t<div class=\"timeline-container wow fadeInUp\">\n",
      "\t\t\t\t\t\t\t\t<div class=\"content\">\n",
      "\t\t\t\t\t\t\t\t\t<span class=\"time\">Feb/2025 - Present</span>\n",
      "\t\t\t\t\t\t\t\t\t<h3 class=\"title\">Data Engineer, <a\n",
      "\t\t\t\t\t\t\t\t\t\t\thref=\"https://www.linkedin.com/company/hellohippo/\"\n",
      "\t\t\t\t\t\t\t\t\t\t\ttarget=\"_blank\">Hippo</a></h3>\n",
      "\t\t\t\t\t\t\t\t\t<p>Data Engineer working on building and optimizing data pipelines, collaborating\n",
      "\t\t\t\t\t\t\t\t\t\twith frontend, backend, AI, and business teams to enhance the data platform and\n",
      "\t\t\t\t\t\t\t\t\t\tsupport data-driven decision-making.</p>\n",
      "\t\t\t\t\t\t\t\t\t<br>\n",
      "\t\t\t\t\t\t\t\t\t<ul>\n",
      "\t\t\t\t\t\t\t\t\t\tMain technologies:\n",
      "\t\t\t\t\t\t\t\t\t\t<li>Apache Airflow</li>\n",
      "\t\t\t\t\t\t\t\t\t\t<li>Apache Spark</li>\n",
      "\t\t\t\t\t\t\t\t\t\t<li>Pandas</li>\n",
      "\t\t\t\t\t\t\t\t\t\t<li>AWS (S3, Lambda, Athena, etc.)</li>\n",
      "\t\t\t\t\t\t\t\t\t\t<li>PostgreSQL</li>\n",
      "\t\t\t\t\t\t\t\t\t</ul>\n",
      "\t\t\t\t\t\t\t\t</div>\n",
      "\t\t\t\t\t\t\t</div>\n",
      "\n",
      "\t\t\t\t\t\t\t<div class=\"timeline-container wow fadeInUp\">\n",
      "\t\t\t\t\t\t\t\t<div class=\"content\">\n",
      "\t\t\t\t\t\t\t\t\t<span class=\"time\">Oct/2023 - Jan/2025</span>\n",
      "\t\t\t\t\t\t\t\t\t<h3 class=\"title\">Software Engineer, <a\n",
      "\t\t\t\t\t\t\t\t\t\t\thref=\"https://www.linkedin.com/company/cisco-meraki/\" target=\"_blank\">Cisco\n",
      "\t\t\t\t\t\t\t\t\t\t\tMeraki</a></h3>\n",
      "\t\t\t\t\t\t\t\t\t<p>Software Engineer working on building and supporting B2B integrations with Cisco\n",
      "\t\t\t\t\t\t\t\t\t\tand other companies, and developing and maintaining CI/CD pipelines using\n",
      "\t\t\t\t\t\t\t\t\t\tGitLab.</p>\n",
      "\t\t\t\t\t\t\t\t\t<br>\n",
      "\t\t\t\t\t\t\t\t\t<ul>\n",
      "\t\t\t\t\t\t\t\t\t\tMain technologies:\n",
      "\t\t\t\t\t\t\t\t\t\t<li>Software AG WebMethods</li>\n",
      "\t\t\t\t\t\t\t\t\t\t<li>Dell Boomi</li>\n",
      "\t\t\t\t\t\t\t\t\t\t<li>Git and GitLab</li>\n",
      "\t\t\t\t\t\t\t\t\t\t<li>Snowflake, PostgreSQL</li>\n",
      "\t\t\t\t\t\t\t\t\t\t<li>GitLab CI/CD</li>\n",
      "\t\t\t\t\t\t\t\t\t\t<li>Kibana/OpenSearch</li>\n",
      "\t\t\t\t\t\t\t\t\t</ul>\n",
      "\t\t\t\t\t\t\t\t</div>\n",
      "\t\t\t\t\t\t\t</div>\n",
      "\n",
      "\t\t\t\t\t\t\t<!-- Continue translating the other timeline items similarly if you want full translation -->\n",
      "\n",
      "\t\t\t\t\t\t\t<span class=\"line\"></span>\n",
      "\n",
      "\t\t\t\t\t\t\t<div class=\"timeline-container wow fadeInUp\">\n",
      "\t\t\t\t\t\t\t\t<div class=\"content\">\n",
      "\t\t\t\t\t\t\t\t\t<span class=\"time\">Jan/2023 - Oct/2023</span>\n",
      "\t\t\t\t\t\t\t\t\t<h3 class=\"title\">Sr Software Architect, <a\n",
      "\t\t\t\t\t\t\t\t\t\t\thref=\"https://www.linkedin.com/company/ciandt/\" target=\"_blank\">CI&T</a>\n",
      "\t\t\t\t\t\t\t\t\t</h3>\n",
      "\t\t\t\t\t\t\t\t\t<p>Software Architect working on international projects (USA/Texas, mass media\n",
      "\t\t\t\t\t\t\t\t\t\tcompany), applying and supporting cloud solutions architected on AWS.\n",
      "\t\t\t\t\t\t\t\t\t\tResponsible for managing and improving various ETL processes in Dell Boomi, as\n",
      "\t\t\t\t\t\t\t\t\t\twell as assisting in the decommissioning of legacy integration systems and\n",
      "\t\t\t\t\t\t\t\t\t\tdesigning newer cloud-based solutions (AWS).</p>\n",
      "\t\t\t\t\t\t\t\t\t<br>\n",
      "\t\t\t\t\t\t\t\t\t<ul>\n",
      "\t\t\t\t\t\t\t\t\t\tMain technologies:\n",
      "\t\t\t\t\t\t\t\t\t\t<li>Python development with a focus on back-end</li>\n",
      "\t\t\t\t\t\t\t\t\t\t<li>Integration Platform as a Service (iPaaS - Dell Boomi)</li>\n",
      "\t\t\t\t\t\t\t\t\t\t<li>API construction and maintenance using microservices (FastAPI)</li>\n",
      "\t\t\t\t\t\t\t\t\t\t<li>AWS Services: Step Functions, Lambda, DynamoDB, SQS, SNS, Glue, S3, API\n",
      "\t\t\t\t\t\t\t\t\t\t\tGateway</li>\n",
      "\t\t\t\t\t\t\t\t\t\t<li>CI/CD: GitHub Actions, AWS CDK</li>\n",
      "\t\t\t\t\t\t\t\t\t\t<li>Kibana/OpenSearch</li>\n",
      "\t\t\t\t\t\t\t\t\t\t<li>Redshift for data analytics</li>\n",
      "\t\t\t\t\t\t\t\t\t</ul>\n",
      "\t\t\t\t\t\t\t\t</div>\n",
      "\t\t\t\t\t\t\t</div>\n",
      "\n",
      "\t\t\t\t\t\t\t<div class=\"timeline-container wow fadeInUp\">\n",
      "\t\t\t\t\t\t\t\t<div class=\"content\">\n",
      "\t\t\t\t\t\t\t\t\t<span class=\"time\">Feb/2021 - Dec/2022</span>\n",
      "\t\t\t\t\t\t\t\t\t<h3 class=\"title\">Tech Lead, <a href=\"https://www.linkedin.com/company/kabum/\"\n",
      "\t\t\t\t\t\t\t\t\t\t\ttarget=\"_blank\">KaBuM!</a></h3>\n",
      "\t\t\t\t\t\t\t\t\t<p>Responsible for maintaining and improving KaBuM's order microservice, which\n",
      "\t\t\t\t\t\t\t\t\t\thandles the entire order process from product selection to checkout. Led project\n",
      "\t\t\t\t\t\t\t\t\t\tmanagement and team activities, and was responsible for the career development\n",
      "\t\t\t\t\t\t\t\t\t\tof backend developers on the team.</p>\n",
      "\t\t\t\t\t\t\t\t</div>\n",
      "\t\t\t\t\t\t\t</div>\n",
      "\n",
      "\t\t\t\t\t\t\t<div class=\"timeline-container wow fadeInUp\">\n",
      "\t\t\t\t\t\t\t\t<div class=\"content\">\n",
      "\t\t\t\t\t\t\t\t\t<span class=\"time\">Oct/2020 - Feb/2021</span>\n",
      "\t\t\t\t\t\t\t\t\t<h3 class=\"title\">Python Systems Development Analyst, <a\n",
      "\t\t\t\t\t\t\t\t\t\t\thref=\"https://www.linkedin.com/company/kabum/\" target=\"_blank\">KaBuM!</a>\n",
      "\t\t\t\t\t\t\t\t\t</h3>\n",
      "\t\t\t\t\t\t\t\t\t<p>Directly working with Python-based microservices, maintaining and implementing\n",
      "\t\t\t\t\t\t\t\t\t\tnew features across the backend of the website, using the latest technologies.\n",
      "\t\t\t\t\t\t\t\t\t</p>\n",
      "\t\t\t\t\t\t\t\t</div>\n",
      "\t\t\t\t\t\t\t</div>\n",
      "\n",
      "\t\t\t\t\t\t\t<div class=\"timeline-container wow fadeInUp\">\n",
      "\t\t\t\t\t\t\t\t<div class=\"content\">\n",
      "\t\t\t\t\t\t\t\t\t<span class=\"time\">2019 - 2020</span>\n",
      "\t\t\t\t\t\t\t\t\t<h3 class=\"title\">Junior Full Stack Developer, <a\n",
      "\t\t\t\t\t\t\t\t\t\t\thref=\"https://www.linkedin.com/company/itau/\" target=\"_blank\">Itaú\n",
      "\t\t\t\t\t\t\t\t\t\t\tUnibanco</a></h3>\n",
      "\t\t\t\t\t\t\t\t\t<p>Worked on simplifying internal tools within the bank by designing, developing,\n",
      "\t\t\t\t\t\t\t\t\t\tand documenting large-scale systems used by multiple areas across the\n",
      "\t\t\t\t\t\t\t\t\t\torganization.</p>\n",
      "\t\t\t\t\t\t\t\t</div>\n",
      "\t\t\t\t\t\t\t</div>\n",
      "\n",
      "\t\t\t\t\t\t\t<div class=\"timeline-container wow fadeInUp\" data-wow-delay=\"0.2s\">\n",
      "\t\t\t\t\t\t\t\t<div class=\"content\">\n",
      "\t\t\t\t\t\t\t\t\t<span class=\"time\">2018 - 2019</span>\n",
      "\t\t\t\t\t\t\t\t\t<h3 class=\"title\">Intern, <a href=\"https://www.linkedin.com/company/itau/\"\n",
      "\t\t\t\t\t\t\t\t\t\t\ttarget=\"_blank\">Itaú Unibanco</a></h3>\n",
      "\t\t\t\t\t\t\t\t\t<p>Built national-scale systems and automations using Python, participating in all\n",
      "\t\t\t\t\t\t\t\t\t\tdevelopment stages through to production support.</p>\n",
      "\t\t\t\t\t\t\t\t</div>\n",
      "\t\t\t\t\t\t\t</div>\n",
      "\n",
      "\t\t\t\t\t\t\t<div class=\"timeline-container wow fadeInUp\" data-wow-delay=\"0.4s\">\n",
      "\t\t\t\t\t\t\t\t<div class=\"content\">\n",
      "\t\t\t\t\t\t\t\t\t<span class=\"time\">2015 - 2018</span>\n",
      "\t\t\t\t\t\t\t\t\t<h3 class=\"title\">Freelancer</h3>\n",
      "\t\t\t\t\t\t\t\t\t<p>Developed websites and systems for small and medium-sized businesses in the\n",
      "\t\t\t\t\t\t\t\t\t\tLimeira region, using PHP and building institutional websites.</p>\n",
      "\t\t\t\t\t\t\t\t</div>\n",
      "\t\t\t\t\t\t\t</div>\n",
      "\n",
      "\t\t\t\t\t\t\t<!-- main line -->\n",
      "\t\t\t\t\t\t\t<span class=\"line\"></span>\n",
      "\n",
      "\t\t\t\t\t\t</div>\n",
      "\n",
      "\t\t\t\t\t</div>\n",
      "\n",
      "\t\t\t\t</div>\n",
      "\n",
      "\t\t\t</div>\n",
      "\n",
      "\t\t</section>\n",
      "\t\t<!-- section youtube -->\n",
      "\t\t<section id=\"youtube\">\n",
      "\n",
      "\t\t\t<div class=\"container\">\n",
      "\t\t\t\t<div class=\"row\">\n",
      "\t\t\t\t\t<div class=\"col-md-12\">\n",
      "\t\t\t\t\t\t<h2 class=\"section-title wow fadeInUp\">Check out my videos on <a\n",
      "\t\t\t\t\t\t\t\thref=\"https://www.youtube.com/@casedev\" target=\"_blank\">Youtube <i\n",
      "\t\t\t\t\t\t\t\t\tclass=\"icon-social-youtube\"></i></a> (only in portuguese)</h2>\n",
      "\t\t\t\t\t</div>\n",
      "\n",
      "\t\t\t\t\t<div class=\"col-md-12 text-center mt-2 wow fadeInUp\">\n",
      "\t\t\t\t\t\t<iframe width=\"100%\" height=\"500\" class=\"rounded shadow-dark\"\n",
      "\t\t\t\t\t\t\tsrc=\"https://www.youtube.com/embed/videoseries?si=CTbK_XAWS6o3cAM6&amp;list=PLSS7ULy3BK2AzFSBg2bQVWrdhEgXho878\"\n",
      "\t\t\t\t\t\t\ttitle=\"Playlist about Career\" frameborder=\"0\"\n",
      "\t\t\t\t\t\t\tallow=\"accelerometer; autoplay; clipboard-write; encrypted-media; gyroscope; picture-in-picture; web-share\"\n",
      "\t\t\t\t\t\t\tallowfullscreen></iframe>\n",
      "\t\t\t\t\t\t<h4>> Programmer Career </h4>\n",
      "\t\t\t\t\t</div>\n",
      "\n",
      "\n",
      "\n",
      "\t\t\t\t\t<div class=\"spacer\" data-height=\"60\"></div>\n",
      "\t\t\t\t</div>\n",
      "\n",
      "\t\t\t</div>\n",
      "\t\t</section>\n",
      "\n",
      "\t\t<!-- section works -->\n",
      "\t\t<section id=\"works\">\n",
      "\n",
      "\t\t\t<div class=\"container\">\n",
      "\n",
      "\t\t\t\t<!-- section title -->\n",
      "\t\t\t\t<h2 class=\"section-title wow fadeInUp mb-3\">Check out my Udemy Courses and Github Projects</h2>\n",
      "\n",
      "\t\t\t\t<div class=\"spacer\" data-height=\"60\"></div>\n",
      "\n",
      "\t\t\t\t<!-- portfolio item -->\n",
      "\t\t\t\t<div class=\"row\">\n",
      "\t\t\t\t\t<div class=\"col-md-5 grid-item creative design m-2\">\n",
      "\t\t\t\t\t\t<a href=\"https://www.udemy.com/user/gabriel-henrique-casemiro/\" target=\"_blank\">\n",
      "\t\t\t\t\t\t\t<div class=\"portfolio-item rounded shadow-dark\">\n",
      "\t\t\t\t\t\t\t\t<div class=\"details\">\n",
      "\t\t\t\t\t\t\t\t\t<span class=\"term\">Udemy Profile</span>\n",
      "\t\t\t\t\t\t\t\t\t<h4 class=\"title\">Udemy Profile</h4>\n",
      "\t\t\t\t\t\t\t\t</div>\n",
      "\t\t\t\t\t\t\t\t<div class=\"thumb\">\n",
      "\t\t\t\t\t\t\t\t\t<img src=\"/static/images/udemy.png\" alt=\"Udemy Profile\" class=\"w-100\" />\n",
      "\t\t\t\t\t\t\t\t\t<div class=\"mask\"></div>\n",
      "\t\t\t\t\t\t\t\t</div>\n",
      "\t\t\t\t\t\t\t</div>\n",
      "\t\t\t\t\t\t</a>\n",
      "\t\t\t\t\t</div>\n",
      "\t\t\t\t\t<div class=\"col-md-5 grid-item creative design m-2\">\n",
      "\t\t\t\t\t\t<a href=\"https://github.com/GabrielCasemiro\" target=\"_blank\">\n",
      "\t\t\t\t\t\t\t<div class=\"portfolio-item rounded shadow-dark\">\n",
      "\t\t\t\t\t\t\t\t<div class=\"details\">\n",
      "\t\t\t\t\t\t\t\t\t<span class=\"term\">Github Profile</span>\n",
      "\t\t\t\t\t\t\t\t\t<h4 class=\"title\">Github Profile</h4>\n",
      "\t\t\t\t\t\t\t\t</div>\n",
      "\t\t\t\t\t\t\t\t<div class=\"thumb\">\n",
      "\t\t\t\t\t\t\t\t\t<img src=\"/static/images/github.png\" alt=\"Github Profile\" class=\"w-100\" />\n",
      "\t\t\t\t\t\t\t\t\t<div class=\"mask\"></div>\n",
      "\t\t\t\t\t\t\t\t</div>\n",
      "\t\t\t\t\t\t\t</div>\n",
      "\t\t\t\t\t\t</a>\n",
      "\t\t\t\t\t</div>\n",
      "\n",
      "\t\t\t\t</div>\n",
      "\t\t\t</div>\n",
      "\t\t\t</div>\n",
      "\n",
      "\t\t</section>\n",
      "\n",
      "\n",
      "\t\t<!-- section contact -->\n",
      "\t\t<section id=\"contact\">\n",
      "\n",
      "\t\t\t<div class=\"container\">\n",
      "\n",
      "\t\t\t\t<!-- section title -->\n",
      "\t\t\t\t<h2 class=\"section-title wow fadeInUp\">Let's chat</h2>\n",
      "\n",
      "\t\t\t\t<div class=\"spacer\" data-height=\"60\"></div>\n",
      "\n",
      "\t\t\t\t<div class=\"row\">\n",
      "\n",
      "\t\t\t\t\t<div class=\"col-md-4\">\n",
      "\t\t\t\t\t\t<!-- contact info -->\n",
      "\t\t\t\t\t\t<div class=\"contact-info\">\n",
      "\t\t\t\t\t\t\t<h3 class=\"wow fadeInUp\">Let's talk about everything</h3>\n",
      "\t\t\t\t\t\t\t<p class=\"wow fadeInUp\">Don't like forms? Send me an e-mail <a\n",
      "\t\t\t\t\t\t\t\t\thref=\"mailto:gabrielcasemiro68@gmail.com\">gabrielcasemiro68@gmail.com</a>. 👋</p>\n",
      "\t\t\t\t\t\t</div>\n",
      "\t\t\t\t\t</div>\n",
      "\n",
      "\t\t\t\t\t<div class=\"col-md-8\">\n",
      "\t\t\t\t\t\t<!-- Contact Form -->\n",
      "\t\t\t\t\t\t<form id=\"contact-form\" class=\"contact-form mt-6\" method=\"post\" action=\"/contact/\">\n",
      "\t\t\t\t\t\t\t<input type=\"hidden\" name=\"csrfmiddlewaretoken\" value=\"rJvHYEXjSYAFuJvlYNmLSQx9XiPqAPhIOAXA7ytH9MRwFuBeMlMGtPPDIRDEBJFR\">\n",
      "\n",
      "\t\t\t\t\t\t\t<div class=\"messages\"></div>\n",
      "\n",
      "\t\t\t\t\t\t\t<div class=\"row\">\n",
      "\t\t\t\t\t\t\t\t<div class=\"column col-md-6\">\n",
      "\t\t\t\t\t\t\t\t\t<!-- Name input -->\n",
      "\t\t\t\t\t\t\t\t\t<div class=\"form-group\">\n",
      "\t\t\t\t\t\t\t\t\t\t<input type=\"text\" class=\"form-control\" name=\"InputName\" id=\"InputName\"\n",
      "\t\t\t\t\t\t\t\t\t\t\tplaceholder=\"Your name\" required=\"required\" data-error=\"Name is required.\">\n",
      "\t\t\t\t\t\t\t\t\t\t<div class=\"help-block with-errors\"></div>\n",
      "\t\t\t\t\t\t\t\t\t</div>\n",
      "\t\t\t\t\t\t\t\t</div>\n",
      "\n",
      "\t\t\t\t\t\t\t\t<div class=\"column col-md-6\">\n",
      "\t\t\t\t\t\t\t\t\t<!-- Email input -->\n",
      "\t\t\t\t\t\t\t\t\t<div class=\"form-group\">\n",
      "\t\t\t\t\t\t\t\t\t\t<input type=\"email\" class=\"form-control\" id=\"InputEmail\" name=\"InputEmail\"\n",
      "\t\t\t\t\t\t\t\t\t\t\tplaceholder=\"Your e-mail\" required=\"required\"\n",
      "\t\t\t\t\t\t\t\t\t\t\tdata-error=\"Your e-mail is required.\">\n",
      "\t\t\t\t\t\t\t\t\t\t<div class=\"help-block with-errors\"></div>\n",
      "\t\t\t\t\t\t\t\t\t</div>\n",
      "\t\t\t\t\t\t\t\t</div>\n",
      "\n",
      "\t\t\t\t\t\t\t\t<div class=\"column col-md-12\">\n",
      "\t\t\t\t\t\t\t\t\t<!-- Email input -->\n",
      "\t\t\t\t\t\t\t\t\t<div class=\"form-group\">\n",
      "\t\t\t\t\t\t\t\t\t\t<input type=\"text\" class=\"form-control\" id=\"InputSubject\" name=\"InputSubject\"\n",
      "\t\t\t\t\t\t\t\t\t\t\tplaceholder=\"Subject\" required=\"required\"\n",
      "\t\t\t\t\t\t\t\t\t\t\tdata-error=\"The subject is required.\">\n",
      "\t\t\t\t\t\t\t\t\t\t<div class=\"help-block with-errors\"></div>\n",
      "\t\t\t\t\t\t\t\t\t</div>\n",
      "\t\t\t\t\t\t\t\t</div>\n",
      "\n",
      "\t\t\t\t\t\t\t\t<div class=\"column col-md-12\">\n",
      "\t\t\t\t\t\t\t\t\t<!-- Message textarea -->\n",
      "\t\t\t\t\t\t\t\t\t<div class=\"form-group\">\n",
      "\t\t\t\t\t\t\t\t\t\t<textarea name=\"InputMessage\" id=\"InputMessage\" class=\"form-control\" rows=\"5\"\n",
      "\t\t\t\t\t\t\t\t\t\t\tplaceholder=\"Message\" required=\"required\"\n",
      "\t\t\t\t\t\t\t\t\t\t\tdata-error=\"The message is required\"></textarea>\n",
      "\t\t\t\t\t\t\t\t\t\t<div class=\"help-block with-errors\"></div>\n",
      "\t\t\t\t\t\t\t\t\t</div>\n",
      "\t\t\t\t\t\t\t\t</div>\n",
      "\t\t\t\t\t\t\t</div>\n",
      "\n",
      "\t\t\t\t\t\t\t<button type=\"submit\" name=\"submit\" id=\"submit\" value=\"Submit\"\n",
      "\t\t\t\t\t\t\t\tclass=\"btn btn-default\">Submit</button><!-- Send Button -->\n",
      "\n",
      "\t\t\t\t\t\t</form>\n",
      "\t\t\t\t\t\t<!-- Contact Form end -->\n",
      "\t\t\t\t\t</div>\n",
      "\n",
      "\t\t\t\t</div>\n",
      "\n",
      "\t\t\t</div>\n",
      "\n",
      "\t\t</section>\n",
      "\n",
      "\t\t<div class=\"spacer\" data-height=\"96\"></div>\n",
      "\n",
      "\t</main>\n",
      "\n",
      "\t<!-- Go to top button -->\n",
      "\t<a href=\"javascript:\" id=\"return-to-top\"><i class=\"fas fa-arrow-up\"></i></a>\n",
      "\n",
      "\t<!-- SCRIPTS -->\n",
      "\t<script src=\"/static/js/jquery-1.12.3.min.js\"></script>\n",
      "\t<script src=\"/static/js/jquery.easing.min.js\"></script>\n",
      "\t<script src=\"/static/js/jquery.waypoints.min.js\"></script>\n",
      "\t<script src=\"/static/js/jquery.counterup.min.js\"></script>\n",
      "\t<script src=\"/static/js/popper.min.js\"></script>\n",
      "\t<script src=\"/static/js/bootstrap.min.js\"></script>\n",
      "\t<script src=\"/static/js/isotope.pkgd.min.js\"></script>\n",
      "\t<script src=\"/static/js/infinite-scroll.min.js\"></script>\n",
      "\t<script src=\"/static/js/imagesloaded.pkgd.min.js\"></script>\n",
      "\t<script src=\"/static/js/slick.min.js\"></script>\n",
      "\t<script src=\"/static/js/validator.js\"></script>\n",
      "\t<script src=\"/static/js/wow.min.js\"></script>\n",
      "\t<script src=\"/static/js/morphext.min.js\"></script>\n",
      "\t<script src=\"/static/js/parallax.min.js\"></script>\n",
      "\t<script src=\"/static/js/jquery.magnific-popup.min.js\"></script>\n",
      "\t<script src=\"/static/js/custom.js\"></script>\n",
      "\n",
      "</body>\n",
      "\n",
      "</html>\n"
     ]
    }
   ],
   "source": [
    "page = requests.get('https://www.gabrielcasemiro.com.br')\n",
    "\n",
    "if page.status_code == 200:\n",
    "    print(page.text)\n",
    "else:\n",
    "    print('HTTP error ', page.status_code)"
   ]
  },
  {
   "cell_type": "code",
   "execution_count": 44,
   "id": "db9f2bb3",
   "metadata": {},
   "outputs": [
    {
     "name": "stdout",
     "output_type": "stream",
     "text": [
      "<!DOCTYPE html>\n",
      "<html lang=\"pt-BR\">\n",
      "<head>\n",
      "<meta content=\"text/html; charset=utf-8\" http-equiv=\"Content-Type\"/>\n",
      "<title>Gabriel Casemiro</title>\n",
      "<meta content=\"Gabriel Casemiro\" name=\"description\"/>\n",
      "<meta content=\"width=device-width, initial-scale=1, maximum-scale=1\" name=\"viewport\"/>\n",
      "<link href=\"/static/images/mini_logo.png\" rel=\"shortcut icon\" type=\"image/x-icon\"/>\n",
      "<!-- STYLESHEETS -->\n",
      "<link href=\"/static/css/bootstrap.min.css\" media=\"all\" rel=\"stylesheet\" type=\"text/css\"/>\n",
      "<link href=\"/static/css/all.min.css\" media=\"all\" rel=\"stylesheet\" type=\"text/css\"/>\n",
      "<link href=\"/static/css/simple-line-icons.css\" media=\"all\" rel=\"stylesheet\" type=\"text/css\"/>\n",
      "<link href=\"/static/css/slick.css\" media=\"all\" rel=\"stylesheet\" type=\"text/css\"/>\n",
      "<link href=\"/static/css/animate.css\" media=\"all\" rel=\"stylesheet\" type=\"text/css\"/>\n",
      "<link href=\"/static/css/magnific-popup.css\" media=\"all\" rel=\"stylesheet\" type=\"text/css\"/>\n",
      "<link href=\"/static/css/style.css\" media=\"all\" rel=\"stylesheet\" type=\"text/css\"/>\n",
      "<!--[if lt IE 9]>\n",
      "      <script src=\"https://oss.maxcdn.com/html5shiv/3.7.2/html5shiv.min.js\"></script>\n",
      "      <script src=\"https://oss.maxcdn.com/respond/1.4.2/respond.min.js\"></script>\n",
      "    <![endif]-->\n",
      "</head>\n",
      "<body>\n",
      "<!-- Preloader -->\n",
      "<div id=\"preloader\">\n",
      "<div class=\"outer\">\n",
      "<!-- Google Chrome -->\n",
      "<div class=\"infinityChrome\">\n",
      "<div></div>\n",
      "<div></div>\n",
      "<div></div>\n",
      "</div>\n",
      "<!-- Safari and others -->\n",
      "<div class=\"infinity\">\n",
      "<div>\n",
      "<span></span>\n",
      "</div>\n",
      "<div>\n",
      "<span></span>\n",
      "</div>\n",
      "<div>\n",
      "<span></span>\n",
      "</div>\n",
      "</div>\n",
      "<!-- Stuff -->\n",
      "<svg class=\"goo-outer\" version=\"1.1\" xmlns=\"http://www.w3.org/2000/svg\">\n",
      "<defs>\n",
      "<filter id=\"goo\">\n",
      "<fegaussianblur in=\"SourceGraphic\" result=\"blur\" stddeviation=\"6\"></fegaussianblur>\n",
      "<fecolormatrix in=\"blur\" result=\"goo\" values=\"1 0 0 0 0  0 1 0 0 0  0 0 1 0 0  0 0 0 18 -7\"></fecolormatrix>\n",
      "<feblend in=\"SourceGraphic\" in2=\"goo\"></feblend>\n",
      "</filter>\n",
      "</defs>\n",
      "</svg>\n",
      "</div>\n",
      "</div>\n",
      "<!-- mobile header -->\n",
      "<header class=\"mobile-header-1\">\n",
      "<div class=\"container\">\n",
      "<!-- menu icon -->\n",
      "<div class=\"menu-icon d-inline-flex mr-4\">\n",
      "<button>\n",
      "<span></span>\n",
      "</button>\n",
      "</div>\n",
      "<!-- logo image -->\n",
      "<div class=\"site-logo\">\n",
      "<a href=\"/\">\n",
      "<img alt=\"logo\" src=\"/static/images/logo.png\"/>\n",
      "</a>\n",
      "</div>\n",
      "</div>\n",
      "</header>\n",
      "<!-- desktop header -->\n",
      "<header class=\"desktop-header-1 d-flex align-items-start flex-column\">\n",
      "<!-- logo image -->\n",
      "<div class=\"site-logo\">\n",
      "<a href=\"/\">\n",
      "<img alt=\"logo\" src=\"/static/images/logo.png\"/>\n",
      "</a>\n",
      "</div>\n",
      "<!-- main menu -->\n",
      "<nav>\n",
      "<ul class=\"vertical-menu scrollspy\">\n",
      "<li class=\"active\"><a href=\"#home\"><i class=\"icon-home\"></i>Home</a></li>\n",
      "<li><a href=\"#about\"><i class=\"icon-user-following\"></i>About</a></li>\n",
      "<li><a href=\"#experience\"><i class=\"icon-graduation\"></i>Experience</a></li>\n",
      "<li><a href=\"#works\"><i class=\"icon-layers\"></i>Works</a></li>\n",
      "<li><a href=\"#youtube\" target=\"_blank\"><i class=\"icon-social-youtube\"></i>Youtube</a></li>\n",
      "<li><a href=\"#contact\"><i class=\"icon-bubbles\"></i>Contact</a></li>\n",
      "</ul>\n",
      "</nav>\n",
      "<!-- site footer -->\n",
      "<div class=\"footer\">\n",
      "<!-- copyright text -->\n",
      "<span class=\"copyright\">© 2025 Gabriel Casemiro.</span>\n",
      "</div>\n",
      "</header>\n",
      "<!-- main layout -->\n",
      "<main class=\"content\">\n",
      "<!-- section home -->\n",
      "<section class=\"home d-flex align-items-center\" id=\"home\">\n",
      "<div class=\"container\">\n",
      "<!-- intro -->\n",
      "<div class=\"intro\">\n",
      "<div style=\"position: fixed; top: 20px; right: 20px; z-index: 9999;\">\n",
      "<a href=\"/pt/\"><img alt=\"Português\" class=\"img-hover-lang\" src=\"/static/images/flag-br.png\" style=\"width: 42px; margin-right: 8px;\"/></a>\n",
      "<a href=\"/en/\"><img alt=\"English\" class=\"img-hover-lang\" src=\"/static/images/flag-us.png\" style=\"width: 42px;\"/></a>\n",
      "</div>\n",
      "<!-- avatar image -->\n",
      "<img alt=\"Gabriel\" class=\"mb-4 circle rounded\" src=\"/static/images/foto-1.png\" style=\"width:225px\"/>\n",
      "<!-- info -->\n",
      "<h1 class=\"mb-2 mt-0\">Gabriel Casemiro</h1>\n",
      "<span>I'm <span class=\"text-rotating\">Data Engineer, Python Developer, Programming\n",
      "\t\t\t\t\t\t\tTeacher</span></span>\n",
      "<!-- social icons -->\n",
      "<ul class=\"social-icons light list-inline mb-0 mt-4\">\n",
      "<li class=\"list-inline-item\"><a href=\"https://t.me/gcasemiro\"><i class=\"fab fa-telegram\"></i></a></li>\n",
      "<li class=\"list-inline-item\"><a href=\"https://github.com/GabrielCasemiro\"><i class=\"fab fa-git\"></i></a></li>\n",
      "<li class=\"list-inline-item\"><a href=\"https://www.linkedin.com/in/gabriel-casemiro-74a89b128/\"><i class=\"fab fa-linkedin\"></i></a></li>\n",
      "<li class=\"list-inline-item\"><a href=\"https://www.youtube.com/@casedev\" target=\"_blank\"><i class=\"icon-social-youtube\"></i></a></li>\n",
      "</ul>\n",
      "</div>\n",
      "<!-- scroll down mouse wheel -->\n",
      "<div class=\"scroll-down\">\n",
      "<a class=\"mouse-wrapper\" href=\"#about\">\n",
      "<br/>\n",
      "<span>Read more</span>\n",
      "<span class=\"mouse\">\n",
      "<span class=\"wheel\"></span>\n",
      "</span>\n",
      "</a>\n",
      "</div>\n",
      "<!-- parallax layers -->\n",
      "<div class=\"parallax\" data-relative-input=\"true\">\n",
      "<svg class=\"layer p1\" data-depth=\"0.3\" height=\"29\" width=\"27\" xmlns=\"http://www.w3.org/2000/svg\">\n",
      "<path d=\"M21.15625.60099c4.37954 3.67487 6.46544 9.40612 5.47254 15.03526-.9929 5.62915-4.91339 10.30141-10.2846 12.25672-5.37122 1.9553-11.3776.89631-15.75715-2.77856l2.05692-2.45134c3.50315 2.93948 8.3087 3.78663 12.60572 2.22284 4.297-1.5638 7.43381-5.30209 8.22768-9.80537.79387-4.50328-.8749-9.08872-4.37803-12.02821L21.15625.60099z\" fill=\"#FFD15C\" fill-rule=\"evenodd\"></path>\n",
      "</svg>\n",
      "<svg class=\"layer p2\" data-depth=\"0.2\" height=\"26\" width=\"26\" xmlns=\"http://www.w3.org/2000/svg\">\n",
      "<path d=\"M13 3.3541L2.42705 24.5h21.1459L13 3.3541z\" fill=\"none\" fill-rule=\"evenodd\" stroke=\"#FF4C60\" stroke-width=\"3\"></path>\n",
      "</svg>\n",
      "<svg class=\"layer p3\" data-depth=\"0.3\" height=\"25\" width=\"30\" xmlns=\"http://www.w3.org/2000/svg\">\n",
      "<path d=\"M.1436 8.9282C3.00213 3.97706 8.2841.92763 14.00013.92796c5.71605.00032 10.9981 3.04992 13.85641 8 2.8583 4.95007 2.8584 11.0491-.00014 16.00024l-2.77128-1.6c2.28651-3.96036 2.28631-8.84002.00011-12.8002-2.2862-3.96017-6.5124-6.40017-11.08513-6.4-4.57271.00018-8.79872 2.43984-11.08524 6.4002l-2.77128-1.6z\" fill=\"#44D7B6\" fill-rule=\"evenodd\"></path>\n",
      "</svg>\n",
      "<svg class=\"layer p4\" data-depth=\"0.6\" height=\"23\" width=\"15\" xmlns=\"http://www.w3.org/2000/svg\">\n",
      "<rect fill=\"#FFD15C\" fill-rule=\"evenodd\" height=\"25\" rx=\"1.5\" transform=\"rotate(30 9.86603 10.13397)\" width=\"3\" x=\"7\"></rect>\n",
      "</svg>\n",
      "<svg class=\"layer p5\" data-depth=\"0.2\" height=\"23\" width=\"15\" xmlns=\"http://www.w3.org/2000/svg\">\n",
      "<rect fill=\"#6C6CE5\" fill-rule=\"evenodd\" height=\"25\" rx=\"1.5\" transform=\"rotate(30 9.86603 10.13397)\" width=\"3\" x=\"7\"></rect>\n",
      "</svg>\n",
      "<svg class=\"layer p6\" data-depth=\"0.5\" height=\"17\" width=\"49\" xmlns=\"http://www.w3.org/2000/svg\">\n",
      "<g fill=\"#FF4C60\" fill-rule=\"evenodd\">\n",
      "<path d=\"M.5 16.5c0-5.71709 2.3825-10.99895 6.25-13.8567 3.8675-2.85774 8.6325-2.85774 12.5 0C23.1175 5.50106 25.5 10.78292 25.5 16.5H23c0-4.57303-1.90625-8.79884-5-11.08535-3.09375-2.28652-6.90625-2.28652-10 0C4.90625 7.70116 3 11.92697 3 16.5H.5z\"></path>\n",
      "<path d=\"M23.5 16.5c0-5.71709 2.3825-10.99895 6.25-13.8567 3.8675-2.85774 8.6325-2.85774 12.5 0C46.1175 5.50106 48.5 10.78292 48.5 16.5H46c0-4.57303-1.90625-8.79884-5-11.08535-3.09375-2.28652-6.90625-2.28652-10 0-3.09375 2.28651-5 6.51232-5 11.08535h-2.5z\"></path>\n",
      "</g>\n",
      "</svg>\n",
      "<svg class=\"layer p7\" data-depth=\"0.4\" height=\"26\" width=\"26\" xmlns=\"http://www.w3.org/2000/svg\">\n",
      "<path d=\"M13 22.6459L2.42705 1.5h21.1459L13 22.6459z\" fill=\"none\" fill-rule=\"evenodd\" stroke=\"#FFD15C\" stroke-width=\"3\"></path>\n",
      "</svg>\n",
      "<svg class=\"layer p8\" data-depth=\"0.3\" height=\"21\" width=\"19\" xmlns=\"http://www.w3.org/2000/svg\">\n",
      "<rect fill=\"#6C6CE5\" fill-rule=\"evenodd\" height=\"25\" rx=\"1.5\" transform=\"rotate(-40 6.25252 10.12626)\" width=\"3\" x=\"7\"></rect>\n",
      "</svg>\n",
      "<svg class=\"layer p9\" data-depth=\"0.3\" data-depth-y=\"-1.30\" height=\"25\" width=\"30\" xmlns=\"http://www.w3.org/2000/svg\">\n",
      "<path d=\"M29.8564 16.0718c-2.85854 4.95114-8.1405 8.00057-13.85654 8.00024-5.71605-.00032-10.9981-3.04992-13.85641-8-2.8583-4.95007-2.8584-11.0491.00014-16.00024l2.77128 1.6c-2.28651 3.96036-2.28631 8.84002-.00011 12.8002 2.2862 3.96017 6.5124 6.40017 11.08513 6.4 4.57271-.00018 8.79872-2.43984 11.08524-6.4002l2.77128 1.6z\" fill=\"#6C6CE5\" fill-rule=\"evenodd\"></path>\n",
      "</svg>\n",
      "<svg class=\"layer p10\" data-depth=\"0.2\" height=\"29\" width=\"47\" xmlns=\"http://www.w3.org/2000/svg\">\n",
      "<g fill=\"#44D7B6\" fill-rule=\"evenodd\">\n",
      "<path d=\"M46.78878 17.19094c-1.95535 5.3723-6.00068 9.52077-10.61234 10.8834-4.61167 1.36265-9.0893-.26708-11.74616-4.27524-2.65686-4.00817-3.08917-9.78636-1.13381-15.15866l2.34923.85505c-1.56407 4.29724-1.2181 8.92018.90705 12.12693 2.12514 3.20674 5.70772 4.5107 9.39692 3.4202 3.68921-1.0905 6.92581-4.40949 8.48988-8.70673l2.34923.85505z\"></path>\n",
      "<path d=\"M25.17585 9.32448c-1.95535 5.3723-6.00068 9.52077-10.61234 10.8834-4.61167 1.36264-9.0893-.26708-11.74616-4.27525C.16049 11.92447-.27182 6.14628 1.68354.77398l2.34923.85505c-1.56407 4.29724-1.2181 8.92018.90705 12.12692 2.12514 3.20675 5.70772 4.5107 9.39692 3.4202 3.68921-1.0905 6.92581-4.40948 8.48988-8.70672l2.34923.85505z\"></path>\n",
      "</g>\n",
      "</svg>\n",
      "<svg class=\"layer p11\" data-depth=\"0.5\" height=\"20\" width=\"33\" xmlns=\"http://www.w3.org/2000/svg\">\n",
      "<path d=\"M32.36774.34317c.99276 5.63023-1.09332 11.3614-5.47227 15.03536-4.37895 3.67396-10.3855 4.73307-15.75693 2.77837C5.76711 16.2022 1.84665 11.53014.8539 5.8999l3.15139-.55567c.7941 4.50356 3.93083 8.24147 8.22772 9.8056 4.29688 1.56413 9.10275.71673 12.60554-2.2227C28.34133 9.98771 30.01045 5.4024 29.21635.89884l3.15139-.55567z\" fill=\"#FFD15C\" fill-rule=\"evenodd\"></path>\n",
      "</svg>\n",
      "</div>\n",
      "</div>\n",
      "</section>\n",
      "<!-- section about -->\n",
      "<section id=\"about\">\n",
      "<div class=\"container\">\n",
      "<!-- section title -->\n",
      "<h2 class=\"section-title wow fadeInUp\">About Me</h2>\n",
      "<div class=\"spacer\" data-height=\"60\"></div>\n",
      "<div class=\"row\">\n",
      "<div class=\"col-md-3\">\n",
      "<div class=\"text-center text-md-left\">\n",
      "<!-- avatar image -->\n",
      "<img alt=\"Gabriel\" class=\"mb-4 circle\" src=\"/static/images/foto.png\" style=\"width:200px\"/>\n",
      "</div>\n",
      "<div class=\"spacer d-md-none d-lg-none\" data-height=\"30\"></div>\n",
      "</div>\n",
      "<div class=\"col-md-9 triangle-left-md triangle-top-sm\">\n",
      "<div class=\"rounded bg-white shadow-dark padding-30\">\n",
      "<div class=\"row\">\n",
      "<div class=\"col-md-12\">\n",
      "<!-- about text -->\n",
      "<p>Nice to meet you! I'm Gabriel. I currently work as a Data Engineer at Hippo\n",
      "\t\t\t\t\t\t\t\t\t\t(US-NY), where I build and optimize data pipelines using Airflow, Spark, Pandas,\n",
      "\t\t\t\t\t\t\t\t\t\tand AWS. I collaborate with frontend, backend, AI, and business teams to enhance\n",
      "\t\t\t\t\t\t\t\t\t\tthe data platform, develop new features, and ensure data quality and\n",
      "\t\t\t\t\t\t\t\t\t\treliability, empowering better products and data-driven decisions. I also teach\n",
      "\t\t\t\t\t\t\t\t\t\tonline programming courses for developers. Regarding my educational background,\n",
      "\t\t\t\t\t\t\t\t\t\tI hold a Bachelor's degree in Information Systems from the University of\n",
      "\t\t\t\t\t\t\t\t\t\tCampinas (UNICAMP) and a postgraduate MBA in Software Engineering from\n",
      "\t\t\t\t\t\t\t\t\t\tUSP/ESALQ. I am passionate about programming, but I also enjoy reading, working\n",
      "\t\t\t\t\t\t\t\t\t\tout, and practicing martial arts.</p>\n",
      "<a href=\"https://www.linkedin.com/in/gabriel-casemiro-74a89b128/\"><i class=\"fab fa-linkedin text-dark\"></i></a>\n",
      "<!-- <div class=\"mt-3\">\n",
      "\t\t\t\t\t\t\t\t\t\t<a href=\"#\" class=\"btn btn-default\">Download CV</a>\n",
      "\t\t\t\t\t\t\t\t\t</div> -->\n",
      "<div class=\"spacer d-md-none d-lg-none\" data-height=\"30\"></div>\n",
      "</div>\n",
      "</div>\n",
      "</div>\n",
      "</div>\n",
      "</div>\n",
      "<!-- row end -->\n",
      "<div class=\"spacer\" data-height=\"70\"></div>\n",
      "<div class=\"row mt-5\">\n",
      "<div class=\"col-md-3 col-sm-6\">\n",
      "<!-- fact item -->\n",
      "<div class=\"fact-item\">\n",
      "<span class=\"icon icon-fire\"></span>\n",
      "<div class=\"details\">\n",
      "<h3 class=\"mb-0 mt-0 number\"><em class=\"count\">7</em></h3>\n",
      "<p class=\"mb-0\">Published courses</p>\n",
      "</div>\n",
      "</div>\n",
      "<div class=\"spacer d-md-none d-lg-none\" data-height=\"30\"></div>\n",
      "</div>\n",
      "<div class=\"col-md-3 col-sm-6\">\n",
      "<!-- fact item -->\n",
      "<div class=\"fact-item\">\n",
      "<span class=\"icon icon-cup\"></span>\n",
      "<div class=\"details\">\n",
      "<h3 class=\"mb-0 mt-0 number\"><em class=\"count\">23,670</em></h3>\n",
      "<p class=\"mb-0\">Cups of coffee</p>\n",
      "</div>\n",
      "</div>\n",
      "<div class=\"spacer d-md-none d-lg-none\" data-height=\"30\"></div>\n",
      "</div>\n",
      "<div class=\"col-md-3 col-sm-6\">\n",
      "<!-- fact item -->\n",
      "<div class=\"fact-item\">\n",
      "<span class=\"icon icon-people\"></span>\n",
      "<div class=\"details\">\n",
      "<h3 class=\"mb-0 mt-0 number\"><em class=\"count\">9,480</em></h3>\n",
      "<p class=\"mb-0\">Students</p>\n",
      "</div>\n",
      "</div>\n",
      "<div class=\"spacer d-md-none d-lg-none\" data-height=\"30\"></div>\n",
      "</div>\n",
      "<div class=\"col-md-3 col-sm-6\">\n",
      "<!-- fact item -->\n",
      "<div class=\"fact-item\">\n",
      "<span class=\"icon icon-badge\"></span>\n",
      "<div class=\"details\">\n",
      "<h3 class=\"mb-0 mt-0 number\"><em class=\"count\">1,431</em></h3>\n",
      "<p class=\"mb-0\">Reviews</p>\n",
      "</div>\n",
      "</div>\n",
      "</div>\n",
      "</div>\n",
      "</div>\n",
      "</section>\n",
      "<!-- section experience -->\n",
      "<section id=\"experience\">\n",
      "<div class=\"container\">\n",
      "<!-- section title -->\n",
      "<h2 class=\"section-title wow fadeInUp\">Experience</h2>\n",
      "<div class=\"spacer\" data-height=\"60\"></div>\n",
      "<div class=\"row\">\n",
      "<div class=\"col-md-6\">\n",
      "<!-- timeline wrapper -->\n",
      "<div class=\"timeline edu bg-white rounded shadow-dark padding-30 overflow-hidden\">\n",
      "<!-- timeline item -->\n",
      "<div class=\"timeline-container wow fadeInUp\">\n",
      "<div class=\"content\">\n",
      "<span class=\"time\">2023 - 2025</span>\n",
      "<h3 class=\"title\">MBA in Software Engineering, <a href=\"https://www.linkedin.com/school/mbauspesalq/\" target=\"_blank\">MBA\n",
      "\t\t\t\t\t\t\t\t\t\t\tUSP/Esalq</a></h3>\n",
      "<p>Main topics covered during the MBA:</p>\n",
      "<ul>\n",
      "<li>- Backend and Frontend Software Development</li>\n",
      "<li>- DevOps Concepts and Practices</li>\n",
      "<li>- Cloud Computing Management</li>\n",
      "<li>- Infrastructure as Code (IaC)</li>\n",
      "<li>- Agile Methodologies</li>\n",
      "<li>- User Experience (UX)</li>\n",
      "<li>- Information Security Fundamentals</li>\n",
      "<li>- Data Engineering</li>\n",
      "<li>- Machine Learning and Deep Learning</li>\n",
      "<li>- Data Warehousing and Big Data</li>\n",
      "<li>- Blockchain and Cryptocurrencies</li>\n",
      "<li>- Mobile Architecture</li>\n",
      "<li>- Leadership</li>\n",
      "<li>- Emotional Intelligence</li>\n",
      "<li>- Conflict Management</li>\n",
      "<li>- Design Thinking and Business Planning</li>\n",
      "<li>- Design Patterns</li>\n",
      "<li>- NoSQL vs SQL</li>\n",
      "<li>- Software Development Paradigms</li>\n",
      "<li>- API Management and Structuring</li>\n",
      "<li>- Internet of Things (IoT)</li>\n",
      "</ul>\n",
      "</div>\n",
      "</div>\n",
      "<div class=\"timeline-container wow fadeInUp\">\n",
      "<div class=\"content\">\n",
      "<span class=\"time\">2022</span>\n",
      "<h3 class=\"title\">Software Architecture Mentorship, <a href=\"https://www.linkedin.com/company/eximiaco/\" target=\"_blank\">Eximia\n",
      "\t\t\t\t\t\t\t\t\t\t\tCo</a></h3>\n",
      "<p>Completed a 4-month mentorship program on Software Architecture, including 36\n",
      "\t\t\t\t\t\t\t\t\t\tsessions focused on designing resilient and efficient systems.</p>\n",
      "</div>\n",
      "</div>\n",
      "<div class=\"timeline-container wow fadeInUp\">\n",
      "<div class=\"content\">\n",
      "<span class=\"time\">2016 - 2020</span>\n",
      "<h3 class=\"title\">Bachelor's Degree in Information Systems, <a href=\"https://www.linkedin.com/school/universidade-estadual-de-campinas/\" target=\"_blank\">UNICAMP</a></h3>\n",
      "<p>Completed my undergraduate studies at the University of Campinas (UNICAMP) in\n",
      "\t\t\t\t\t\t\t\t\t\tLimeira - São Paulo, Brazil.</p>\n",
      "<a href=\"/static/images/certs/diploma_unicamp.jpeg\" target=\"_blank\"><i class=\"icon-doc\"></i></a>\n",
      "</div>\n",
      "</div>\n",
      "<div class=\"timeline-container wow fadeInUp\">\n",
      "<div class=\"content\">\n",
      "<span class=\"time\">2018</span>\n",
      "<h3 class=\"title\">Bootstrap 4: Responsive Design, <a href=\"https://www.linkedin.com/school/senacsaopaulo/\" target=\"_blank\">SENAC</a></h3>\n",
      "<p>Specialization course focused on Bootstrap 4 responsive design development.</p>\n",
      "</div>\n",
      "</div>\n",
      "<div class=\"timeline-container wow fadeInUp\">\n",
      "<div class=\"content\">\n",
      "<span class=\"time\">2013 - 2015</span>\n",
      "<h3 class=\"title\">Web Designer Course, <a href=\"https://www.linkedin.com/company/microcamp/\" target=\"_blank\">MICROCAMP</a></h3>\n",
      "<p>My first professional course in web development, focusing on building websites\n",
      "\t\t\t\t\t\t\t\t\t\tfor small and medium businesses.</p>\n",
      "</div>\n",
      "</div>\n",
      "<!-- main line -->\n",
      "<span class=\"line\"></span>\n",
      "</div>\n",
      "</div>\n",
      "<div class=\"col-md-6\">\n",
      "<!-- responsive spacer -->\n",
      "<div class=\"spacer d-md-none d-lg-none\" data-height=\"30\"></div>\n",
      "<!-- timeline wrapper -->\n",
      "<div class=\"timeline exp bg-white rounded shadow-dark padding-30 overflow-hidden\">\n",
      "<div class=\"timeline-container wow fadeInUp\">\n",
      "<div class=\"content\">\n",
      "<span class=\"time\">Feb/2025 - Present</span>\n",
      "<h3 class=\"title\">Data Engineer, <a href=\"https://www.linkedin.com/company/hellohippo/\" target=\"_blank\">Hippo</a></h3>\n",
      "<p>Data Engineer working on building and optimizing data pipelines, collaborating\n",
      "\t\t\t\t\t\t\t\t\t\twith frontend, backend, AI, and business teams to enhance the data platform and\n",
      "\t\t\t\t\t\t\t\t\t\tsupport data-driven decision-making.</p>\n",
      "<br/>\n",
      "<ul>\n",
      "\t\t\t\t\t\t\t\t\t\tMain technologies:\n",
      "\t\t\t\t\t\t\t\t\t\t<li>Apache Airflow</li>\n",
      "<li>Apache Spark</li>\n",
      "<li>Pandas</li>\n",
      "<li>AWS (S3, Lambda, Athena, etc.)</li>\n",
      "<li>PostgreSQL</li>\n",
      "</ul>\n",
      "</div>\n",
      "</div>\n",
      "<div class=\"timeline-container wow fadeInUp\">\n",
      "<div class=\"content\">\n",
      "<span class=\"time\">Oct/2023 - Jan/2025</span>\n",
      "<h3 class=\"title\">Software Engineer, <a href=\"https://www.linkedin.com/company/cisco-meraki/\" target=\"_blank\">Cisco\n",
      "\t\t\t\t\t\t\t\t\t\t\tMeraki</a></h3>\n",
      "<p>Software Engineer working on building and supporting B2B integrations with Cisco\n",
      "\t\t\t\t\t\t\t\t\t\tand other companies, and developing and maintaining CI/CD pipelines using\n",
      "\t\t\t\t\t\t\t\t\t\tGitLab.</p>\n",
      "<br/>\n",
      "<ul>\n",
      "\t\t\t\t\t\t\t\t\t\tMain technologies:\n",
      "\t\t\t\t\t\t\t\t\t\t<li>Software AG WebMethods</li>\n",
      "<li>Dell Boomi</li>\n",
      "<li>Git and GitLab</li>\n",
      "<li>Snowflake, PostgreSQL</li>\n",
      "<li>GitLab CI/CD</li>\n",
      "<li>Kibana/OpenSearch</li>\n",
      "</ul>\n",
      "</div>\n",
      "</div>\n",
      "<!-- Continue translating the other timeline items similarly if you want full translation -->\n",
      "<span class=\"line\"></span>\n",
      "<div class=\"timeline-container wow fadeInUp\">\n",
      "<div class=\"content\">\n",
      "<span class=\"time\">Jan/2023 - Oct/2023</span>\n",
      "<h3 class=\"title\">Sr Software Architect, <a href=\"https://www.linkedin.com/company/ciandt/\" target=\"_blank\">CI&amp;T</a>\n",
      "</h3>\n",
      "<p>Software Architect working on international projects (USA/Texas, mass media\n",
      "\t\t\t\t\t\t\t\t\t\tcompany), applying and supporting cloud solutions architected on AWS.\n",
      "\t\t\t\t\t\t\t\t\t\tResponsible for managing and improving various ETL processes in Dell Boomi, as\n",
      "\t\t\t\t\t\t\t\t\t\twell as assisting in the decommissioning of legacy integration systems and\n",
      "\t\t\t\t\t\t\t\t\t\tdesigning newer cloud-based solutions (AWS).</p>\n",
      "<br/>\n",
      "<ul>\n",
      "\t\t\t\t\t\t\t\t\t\tMain technologies:\n",
      "\t\t\t\t\t\t\t\t\t\t<li>Python development with a focus on back-end</li>\n",
      "<li>Integration Platform as a Service (iPaaS - Dell Boomi)</li>\n",
      "<li>API construction and maintenance using microservices (FastAPI)</li>\n",
      "<li>AWS Services: Step Functions, Lambda, DynamoDB, SQS, SNS, Glue, S3, API\n",
      "\t\t\t\t\t\t\t\t\t\t\tGateway</li>\n",
      "<li>CI/CD: GitHub Actions, AWS CDK</li>\n",
      "<li>Kibana/OpenSearch</li>\n",
      "<li>Redshift for data analytics</li>\n",
      "</ul>\n",
      "</div>\n",
      "</div>\n",
      "<div class=\"timeline-container wow fadeInUp\">\n",
      "<div class=\"content\">\n",
      "<span class=\"time\">Feb/2021 - Dec/2022</span>\n",
      "<h3 class=\"title\">Tech Lead, <a href=\"https://www.linkedin.com/company/kabum/\" target=\"_blank\">KaBuM!</a></h3>\n",
      "<p>Responsible for maintaining and improving KaBuM's order microservice, which\n",
      "\t\t\t\t\t\t\t\t\t\thandles the entire order process from product selection to checkout. Led project\n",
      "\t\t\t\t\t\t\t\t\t\tmanagement and team activities, and was responsible for the career development\n",
      "\t\t\t\t\t\t\t\t\t\tof backend developers on the team.</p>\n",
      "</div>\n",
      "</div>\n",
      "<div class=\"timeline-container wow fadeInUp\">\n",
      "<div class=\"content\">\n",
      "<span class=\"time\">Oct/2020 - Feb/2021</span>\n",
      "<h3 class=\"title\">Python Systems Development Analyst, <a href=\"https://www.linkedin.com/company/kabum/\" target=\"_blank\">KaBuM!</a>\n",
      "</h3>\n",
      "<p>Directly working with Python-based microservices, maintaining and implementing\n",
      "\t\t\t\t\t\t\t\t\t\tnew features across the backend of the website, using the latest technologies.\n",
      "\t\t\t\t\t\t\t\t\t</p>\n",
      "</div>\n",
      "</div>\n",
      "<div class=\"timeline-container wow fadeInUp\">\n",
      "<div class=\"content\">\n",
      "<span class=\"time\">2019 - 2020</span>\n",
      "<h3 class=\"title\">Junior Full Stack Developer, <a href=\"https://www.linkedin.com/company/itau/\" target=\"_blank\">Itaú\n",
      "\t\t\t\t\t\t\t\t\t\t\tUnibanco</a></h3>\n",
      "<p>Worked on simplifying internal tools within the bank by designing, developing,\n",
      "\t\t\t\t\t\t\t\t\t\tand documenting large-scale systems used by multiple areas across the\n",
      "\t\t\t\t\t\t\t\t\t\torganization.</p>\n",
      "</div>\n",
      "</div>\n",
      "<div class=\"timeline-container wow fadeInUp\" data-wow-delay=\"0.2s\">\n",
      "<div class=\"content\">\n",
      "<span class=\"time\">2018 - 2019</span>\n",
      "<h3 class=\"title\">Intern, <a href=\"https://www.linkedin.com/company/itau/\" target=\"_blank\">Itaú Unibanco</a></h3>\n",
      "<p>Built national-scale systems and automations using Python, participating in all\n",
      "\t\t\t\t\t\t\t\t\t\tdevelopment stages through to production support.</p>\n",
      "</div>\n",
      "</div>\n",
      "<div class=\"timeline-container wow fadeInUp\" data-wow-delay=\"0.4s\">\n",
      "<div class=\"content\">\n",
      "<span class=\"time\">2015 - 2018</span>\n",
      "<h3 class=\"title\">Freelancer</h3>\n",
      "<p>Developed websites and systems for small and medium-sized businesses in the\n",
      "\t\t\t\t\t\t\t\t\t\tLimeira region, using PHP and building institutional websites.</p>\n",
      "</div>\n",
      "</div>\n",
      "<!-- main line -->\n",
      "<span class=\"line\"></span>\n",
      "</div>\n",
      "</div>\n",
      "</div>\n",
      "</div>\n",
      "</section>\n",
      "<!-- section youtube -->\n",
      "<section id=\"youtube\">\n",
      "<div class=\"container\">\n",
      "<div class=\"row\">\n",
      "<div class=\"col-md-12\">\n",
      "<h2 class=\"section-title wow fadeInUp\">Check out my videos on <a href=\"https://www.youtube.com/@casedev\" target=\"_blank\">Youtube <i class=\"icon-social-youtube\"></i></a> (only in portuguese)</h2>\n",
      "</div>\n",
      "<div class=\"col-md-12 text-center mt-2 wow fadeInUp\">\n",
      "<iframe allow=\"accelerometer; autoplay; clipboard-write; encrypted-media; gyroscope; picture-in-picture; web-share\" allowfullscreen=\"\" class=\"rounded shadow-dark\" frameborder=\"0\" height=\"500\" src=\"https://www.youtube.com/embed/videoseries?si=CTbK_XAWS6o3cAM6&amp;list=PLSS7ULy3BK2AzFSBg2bQVWrdhEgXho878\" title=\"Playlist about Career\" width=\"100%\"></iframe>\n",
      "<h4>&gt; Programmer Career </h4>\n",
      "</div>\n",
      "<div class=\"spacer\" data-height=\"60\"></div>\n",
      "</div>\n",
      "</div>\n",
      "</section>\n",
      "<!-- section works -->\n",
      "<section id=\"works\">\n",
      "<div class=\"container\">\n",
      "<!-- section title -->\n",
      "<h2 class=\"section-title wow fadeInUp mb-3\">Check out my Udemy Courses and Github Projects</h2>\n",
      "<div class=\"spacer\" data-height=\"60\"></div>\n",
      "<!-- portfolio item -->\n",
      "<div class=\"row\">\n",
      "<div class=\"col-md-5 grid-item creative design m-2\">\n",
      "<a href=\"https://www.udemy.com/user/gabriel-henrique-casemiro/\" target=\"_blank\">\n",
      "<div class=\"portfolio-item rounded shadow-dark\">\n",
      "<div class=\"details\">\n",
      "<span class=\"term\">Udemy Profile</span>\n",
      "<h4 class=\"title\">Udemy Profile</h4>\n",
      "</div>\n",
      "<div class=\"thumb\">\n",
      "<img alt=\"Udemy Profile\" class=\"w-100\" src=\"/static/images/udemy.png\"/>\n",
      "<div class=\"mask\"></div>\n",
      "</div>\n",
      "</div>\n",
      "</a>\n",
      "</div>\n",
      "<div class=\"col-md-5 grid-item creative design m-2\">\n",
      "<a href=\"https://github.com/GabrielCasemiro\" target=\"_blank\">\n",
      "<div class=\"portfolio-item rounded shadow-dark\">\n",
      "<div class=\"details\">\n",
      "<span class=\"term\">Github Profile</span>\n",
      "<h4 class=\"title\">Github Profile</h4>\n",
      "</div>\n",
      "<div class=\"thumb\">\n",
      "<img alt=\"Github Profile\" class=\"w-100\" src=\"/static/images/github.png\"/>\n",
      "<div class=\"mask\"></div>\n",
      "</div>\n",
      "</div>\n",
      "</a>\n",
      "</div>\n",
      "</div>\n",
      "</div>\n",
      "</section>\n",
      "<!-- section contact -->\n",
      "<section id=\"contact\">\n",
      "<div class=\"container\">\n",
      "<!-- section title -->\n",
      "<h2 class=\"section-title wow fadeInUp\">Let's chat</h2>\n",
      "<div class=\"spacer\" data-height=\"60\"></div>\n",
      "<div class=\"row\">\n",
      "<div class=\"col-md-4\">\n",
      "<!-- contact info -->\n",
      "<div class=\"contact-info\">\n",
      "<h3 class=\"wow fadeInUp\">Let's talk about everything</h3>\n",
      "<p class=\"wow fadeInUp\">Don't like forms? Send me an e-mail <a href=\"mailto:gabrielcasemiro68@gmail.com\">gabrielcasemiro68@gmail.com</a>. 👋</p>\n",
      "</div>\n",
      "</div>\n",
      "<div class=\"col-md-8\">\n",
      "<!-- Contact Form -->\n",
      "<form action=\"/contact/\" class=\"contact-form mt-6\" id=\"contact-form\" method=\"post\">\n",
      "<input name=\"csrfmiddlewaretoken\" type=\"hidden\" value=\"rJvHYEXjSYAFuJvlYNmLSQx9XiPqAPhIOAXA7ytH9MRwFuBeMlMGtPPDIRDEBJFR\"/>\n",
      "<div class=\"messages\"></div>\n",
      "<div class=\"row\">\n",
      "<div class=\"column col-md-6\">\n",
      "<!-- Name input -->\n",
      "<div class=\"form-group\">\n",
      "<input class=\"form-control\" data-error=\"Name is required.\" id=\"InputName\" name=\"InputName\" placeholder=\"Your name\" required=\"required\" type=\"text\"/>\n",
      "<div class=\"help-block with-errors\"></div>\n",
      "</div>\n",
      "</div>\n",
      "<div class=\"column col-md-6\">\n",
      "<!-- Email input -->\n",
      "<div class=\"form-group\">\n",
      "<input class=\"form-control\" data-error=\"Your e-mail is required.\" id=\"InputEmail\" name=\"InputEmail\" placeholder=\"Your e-mail\" required=\"required\" type=\"email\"/>\n",
      "<div class=\"help-block with-errors\"></div>\n",
      "</div>\n",
      "</div>\n",
      "<div class=\"column col-md-12\">\n",
      "<!-- Email input -->\n",
      "<div class=\"form-group\">\n",
      "<input class=\"form-control\" data-error=\"The subject is required.\" id=\"InputSubject\" name=\"InputSubject\" placeholder=\"Subject\" required=\"required\" type=\"text\"/>\n",
      "<div class=\"help-block with-errors\"></div>\n",
      "</div>\n",
      "</div>\n",
      "<div class=\"column col-md-12\">\n",
      "<!-- Message textarea -->\n",
      "<div class=\"form-group\">\n",
      "<textarea class=\"form-control\" data-error=\"The message is required\" id=\"InputMessage\" name=\"InputMessage\" placeholder=\"Message\" required=\"required\" rows=\"5\"></textarea>\n",
      "<div class=\"help-block with-errors\"></div>\n",
      "</div>\n",
      "</div>\n",
      "</div>\n",
      "<button class=\"btn btn-default\" id=\"submit\" name=\"submit\" type=\"submit\" value=\"Submit\">Submit</button><!-- Send Button -->\n",
      "</form>\n",
      "<!-- Contact Form end -->\n",
      "</div>\n",
      "</div>\n",
      "</div>\n",
      "</section>\n",
      "<div class=\"spacer\" data-height=\"96\"></div>\n",
      "</main>\n",
      "<!-- Go to top button -->\n",
      "<a href=\"javascript:\" id=\"return-to-top\"><i class=\"fas fa-arrow-up\"></i></a>\n",
      "<!-- SCRIPTS -->\n",
      "<script src=\"/static/js/jquery-1.12.3.min.js\"></script>\n",
      "<script src=\"/static/js/jquery.easing.min.js\"></script>\n",
      "<script src=\"/static/js/jquery.waypoints.min.js\"></script>\n",
      "<script src=\"/static/js/jquery.counterup.min.js\"></script>\n",
      "<script src=\"/static/js/popper.min.js\"></script>\n",
      "<script src=\"/static/js/bootstrap.min.js\"></script>\n",
      "<script src=\"/static/js/isotope.pkgd.min.js\"></script>\n",
      "<script src=\"/static/js/infinite-scroll.min.js\"></script>\n",
      "<script src=\"/static/js/imagesloaded.pkgd.min.js\"></script>\n",
      "<script src=\"/static/js/slick.min.js\"></script>\n",
      "<script src=\"/static/js/validator.js\"></script>\n",
      "<script src=\"/static/js/wow.min.js\"></script>\n",
      "<script src=\"/static/js/morphext.min.js\"></script>\n",
      "<script src=\"/static/js/parallax.min.js\"></script>\n",
      "<script src=\"/static/js/jquery.magnific-popup.min.js\"></script>\n",
      "<script src=\"/static/js/custom.js\"></script>\n",
      "</body>\n",
      "</html>\n"
     ]
    }
   ],
   "source": [
    "soup = BeautifulSoup(page.text)\n",
    "print(soup)"
   ]
  },
  {
   "cell_type": "code",
   "execution_count": 46,
   "id": "f7873550",
   "metadata": {},
   "outputs": [
    {
     "data": {
      "text/plain": [
       "<title>Gabriel Casemiro</title>"
      ]
     },
     "execution_count": 46,
     "metadata": {},
     "output_type": "execute_result"
    }
   ],
   "source": [
    "soup.title"
   ]
  },
  {
   "cell_type": "code",
   "execution_count": 47,
   "id": "6e5fd655",
   "metadata": {},
   "outputs": [
    {
     "data": {
      "text/plain": [
       "'Gabriel Casemiro'"
      ]
     },
     "execution_count": 47,
     "metadata": {},
     "output_type": "execute_result"
    }
   ],
   "source": [
    "soup.title.string"
   ]
  },
  {
   "cell_type": "code",
   "execution_count": 48,
   "id": "d0abd148",
   "metadata": {},
   "outputs": [
    {
     "data": {
      "text/plain": [
       "'Gabriel Casemiro'"
      ]
     },
     "execution_count": 48,
     "metadata": {},
     "output_type": "execute_result"
    }
   ],
   "source": [
    "soup.title.text"
   ]
  },
  {
   "cell_type": "code",
   "execution_count": 49,
   "id": "06ca6e15",
   "metadata": {},
   "outputs": [
    {
     "data": {
      "text/plain": [
       "<div id=\"preloader\">\n",
       "<div class=\"outer\">\n",
       "<!-- Google Chrome -->\n",
       "<div class=\"infinityChrome\">\n",
       "<div></div>\n",
       "<div></div>\n",
       "<div></div>\n",
       "</div>\n",
       "<!-- Safari and others -->\n",
       "<div class=\"infinity\">\n",
       "<div>\n",
       "<span></span>\n",
       "</div>\n",
       "<div>\n",
       "<span></span>\n",
       "</div>\n",
       "<div>\n",
       "<span></span>\n",
       "</div>\n",
       "</div>\n",
       "<!-- Stuff -->\n",
       "<svg class=\"goo-outer\" version=\"1.1\" xmlns=\"http://www.w3.org/2000/svg\">\n",
       "<defs>\n",
       "<filter id=\"goo\">\n",
       "<fegaussianblur in=\"SourceGraphic\" result=\"blur\" stddeviation=\"6\"></fegaussianblur>\n",
       "<fecolormatrix in=\"blur\" result=\"goo\" values=\"1 0 0 0 0  0 1 0 0 0  0 0 1 0 0  0 0 0 18 -7\"></fecolormatrix>\n",
       "<feblend in=\"SourceGraphic\" in2=\"goo\"></feblend>\n",
       "</filter>\n",
       "</defs>\n",
       "</svg>\n",
       "</div>\n",
       "</div>"
      ]
     },
     "execution_count": 49,
     "metadata": {},
     "output_type": "execute_result"
    }
   ],
   "source": [
    "soup.div"
   ]
  },
  {
   "cell_type": "code",
   "execution_count": 50,
   "id": "28ff9497",
   "metadata": {},
   "outputs": [
    {
     "data": {
      "text/plain": [
       "[<a href=\"/\">\n",
       " <img alt=\"logo\" src=\"/static/images/logo.png\"/>\n",
       " </a>,\n",
       " <a href=\"/\">\n",
       " <img alt=\"logo\" src=\"/static/images/logo.png\"/>\n",
       " </a>,\n",
       " <a href=\"#home\"><i class=\"icon-home\"></i>Home</a>,\n",
       " <a href=\"#about\"><i class=\"icon-user-following\"></i>About</a>,\n",
       " <a href=\"#experience\"><i class=\"icon-graduation\"></i>Experience</a>,\n",
       " <a href=\"#works\"><i class=\"icon-layers\"></i>Works</a>,\n",
       " <a href=\"#youtube\" target=\"_blank\"><i class=\"icon-social-youtube\"></i>Youtube</a>,\n",
       " <a href=\"#contact\"><i class=\"icon-bubbles\"></i>Contact</a>,\n",
       " <a href=\"/pt/\"><img alt=\"Português\" class=\"img-hover-lang\" src=\"/static/images/flag-br.png\" style=\"width: 42px; margin-right: 8px;\"/></a>,\n",
       " <a href=\"/en/\"><img alt=\"English\" class=\"img-hover-lang\" src=\"/static/images/flag-us.png\" style=\"width: 42px;\"/></a>,\n",
       " <a href=\"https://t.me/gcasemiro\"><i class=\"fab fa-telegram\"></i></a>,\n",
       " <a href=\"https://github.com/GabrielCasemiro\"><i class=\"fab fa-git\"></i></a>,\n",
       " <a href=\"https://www.linkedin.com/in/gabriel-casemiro-74a89b128/\"><i class=\"fab fa-linkedin\"></i></a>,\n",
       " <a href=\"https://www.youtube.com/@casedev\" target=\"_blank\"><i class=\"icon-social-youtube\"></i></a>,\n",
       " <a class=\"mouse-wrapper\" href=\"#about\">\n",
       " <br/>\n",
       " <span>Read more</span>\n",
       " <span class=\"mouse\">\n",
       " <span class=\"wheel\"></span>\n",
       " </span>\n",
       " </a>,\n",
       " <a href=\"https://www.linkedin.com/in/gabriel-casemiro-74a89b128/\"><i class=\"fab fa-linkedin text-dark\"></i></a>,\n",
       " <a href=\"https://www.linkedin.com/school/mbauspesalq/\" target=\"_blank\">MBA\n",
       " \t\t\t\t\t\t\t\t\t\t\tUSP/Esalq</a>,\n",
       " <a href=\"https://www.linkedin.com/company/eximiaco/\" target=\"_blank\">Eximia\n",
       " \t\t\t\t\t\t\t\t\t\t\tCo</a>,\n",
       " <a href=\"https://www.linkedin.com/school/universidade-estadual-de-campinas/\" target=\"_blank\">UNICAMP</a>,\n",
       " <a href=\"/static/images/certs/diploma_unicamp.jpeg\" target=\"_blank\"><i class=\"icon-doc\"></i></a>,\n",
       " <a href=\"https://www.linkedin.com/school/senacsaopaulo/\" target=\"_blank\">SENAC</a>,\n",
       " <a href=\"https://www.linkedin.com/company/microcamp/\" target=\"_blank\">MICROCAMP</a>,\n",
       " <a href=\"https://www.linkedin.com/company/hellohippo/\" target=\"_blank\">Hippo</a>,\n",
       " <a href=\"https://www.linkedin.com/company/cisco-meraki/\" target=\"_blank\">Cisco\n",
       " \t\t\t\t\t\t\t\t\t\t\tMeraki</a>,\n",
       " <a href=\"https://www.linkedin.com/company/ciandt/\" target=\"_blank\">CI&amp;T</a>,\n",
       " <a href=\"https://www.linkedin.com/company/kabum/\" target=\"_blank\">KaBuM!</a>,\n",
       " <a href=\"https://www.linkedin.com/company/kabum/\" target=\"_blank\">KaBuM!</a>,\n",
       " <a href=\"https://www.linkedin.com/company/itau/\" target=\"_blank\">Itaú\n",
       " \t\t\t\t\t\t\t\t\t\t\tUnibanco</a>,\n",
       " <a href=\"https://www.linkedin.com/company/itau/\" target=\"_blank\">Itaú Unibanco</a>,\n",
       " <a href=\"https://www.youtube.com/@casedev\" target=\"_blank\">Youtube <i class=\"icon-social-youtube\"></i></a>,\n",
       " <a href=\"https://www.udemy.com/user/gabriel-henrique-casemiro/\" target=\"_blank\">\n",
       " <div class=\"portfolio-item rounded shadow-dark\">\n",
       " <div class=\"details\">\n",
       " <span class=\"term\">Udemy Profile</span>\n",
       " <h4 class=\"title\">Udemy Profile</h4>\n",
       " </div>\n",
       " <div class=\"thumb\">\n",
       " <img alt=\"Udemy Profile\" class=\"w-100\" src=\"/static/images/udemy.png\"/>\n",
       " <div class=\"mask\"></div>\n",
       " </div>\n",
       " </div>\n",
       " </a>,\n",
       " <a href=\"https://github.com/GabrielCasemiro\" target=\"_blank\">\n",
       " <div class=\"portfolio-item rounded shadow-dark\">\n",
       " <div class=\"details\">\n",
       " <span class=\"term\">Github Profile</span>\n",
       " <h4 class=\"title\">Github Profile</h4>\n",
       " </div>\n",
       " <div class=\"thumb\">\n",
       " <img alt=\"Github Profile\" class=\"w-100\" src=\"/static/images/github.png\"/>\n",
       " <div class=\"mask\"></div>\n",
       " </div>\n",
       " </div>\n",
       " </a>,\n",
       " <a href=\"mailto:gabrielcasemiro68@gmail.com\">gabrielcasemiro68@gmail.com</a>,\n",
       " <a href=\"javascript:\" id=\"return-to-top\"><i class=\"fas fa-arrow-up\"></i></a>]"
      ]
     },
     "execution_count": 50,
     "metadata": {},
     "output_type": "execute_result"
    }
   ],
   "source": [
    "soup.find_all('a')"
   ]
  },
  {
   "cell_type": "code",
   "execution_count": 51,
   "id": "21ecc953",
   "metadata": {},
   "outputs": [
    {
     "name": "stdout",
     "output_type": "stream",
     "text": [
      "/\n",
      "/\n",
      "#home\n",
      "#about\n",
      "#experience\n",
      "#works\n",
      "#youtube\n",
      "#contact\n",
      "/pt/\n",
      "/en/\n",
      "https://t.me/gcasemiro\n",
      "https://github.com/GabrielCasemiro\n",
      "https://www.linkedin.com/in/gabriel-casemiro-74a89b128/\n",
      "https://www.youtube.com/@casedev\n",
      "#about\n",
      "https://www.linkedin.com/in/gabriel-casemiro-74a89b128/\n",
      "https://www.linkedin.com/school/mbauspesalq/\n",
      "https://www.linkedin.com/company/eximiaco/\n",
      "https://www.linkedin.com/school/universidade-estadual-de-campinas/\n",
      "/static/images/certs/diploma_unicamp.jpeg\n",
      "https://www.linkedin.com/school/senacsaopaulo/\n",
      "https://www.linkedin.com/company/microcamp/\n",
      "https://www.linkedin.com/company/hellohippo/\n",
      "https://www.linkedin.com/company/cisco-meraki/\n",
      "https://www.linkedin.com/company/ciandt/\n",
      "https://www.linkedin.com/company/kabum/\n",
      "https://www.linkedin.com/company/kabum/\n",
      "https://www.linkedin.com/company/itau/\n",
      "https://www.linkedin.com/company/itau/\n",
      "https://www.youtube.com/@casedev\n",
      "https://www.udemy.com/user/gabriel-henrique-casemiro/\n",
      "https://github.com/GabrielCasemiro\n",
      "mailto:gabrielcasemiro68@gmail.com\n",
      "javascript:\n"
     ]
    }
   ],
   "source": [
    "for link in soup.find_all('a'):\n",
    "    print(link.get('href', ''))"
   ]
  },
  {
   "cell_type": "code",
   "execution_count": null,
   "id": "dc20b145",
   "metadata": {},
   "outputs": [],
   "source": []
  }
 ],
 "metadata": {
  "kernelspec": {
   "display_name": "base",
   "language": "python",
   "name": "python3"
  },
  "language_info": {
   "codemirror_mode": {
    "name": "ipython",
    "version": 3
   },
   "file_extension": ".py",
   "mimetype": "text/x-python",
   "name": "python",
   "nbconvert_exporter": "python",
   "pygments_lexer": "ipython3",
   "version": "3.13.5"
  }
 },
 "nbformat": 4,
 "nbformat_minor": 5
}
