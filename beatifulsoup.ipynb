{
 "cells": [
  {
   "cell_type": "code",
   "execution_count": 2,
   "id": "afbe5de6",
   "metadata": {},
   "outputs": [],
   "source": [
    "from bs4 import BeautifulSoup"
   ]
  },
  {
   "cell_type": "code",
   "execution_count": 3,
   "id": "8b45f1d3",
   "metadata": {},
   "outputs": [
    {
     "data": {
      "text/plain": [
       "<_io.TextIOWrapper name='generic_simple.html' mode='r' encoding='utf-8'>"
      ]
     },
     "execution_count": 3,
     "metadata": {},
     "output_type": "execute_result"
    }
   ],
   "source": [
    "html_file = open('generic_simple.html', mode='r', encoding='utf-8')\n",
    "html_file"
   ]
  },
  {
   "cell_type": "code",
   "execution_count": 4,
   "id": "cfeff1e0",
   "metadata": {},
   "outputs": [],
   "source": [
    "soup = BeautifulSoup(html_file)"
   ]
  },
  {
   "cell_type": "code",
   "execution_count": 5,
   "id": "07fc2ea0",
   "metadata": {},
   "outputs": [
    {
     "data": {
      "text/plain": [
       "<!DOCTYPE html>\n",
       "<html>\n",
       "<head>\n",
       "<title>Um HTML simples</title>\n",
       "</head>\n",
       "<body bgcolor=\"salmon\">\n",
       "<h1 style=\"background-color:peachpuff\">Um tópico aleatório</h1>\n",
       "<div class=\"article\" id=\"I_AM_Unique\" style=\"background-color:peachpuff\">\n",
       "<p style=\"background-color:peachpuff\">Eu sou a descrição do tópico aleatório acima. Não há necessidade de me ler em tudo.\n",
       "\t\tAinda assim, se você está lendo, o problema é seu.\n",
       "\t\tVocê ainda não consegue descobrir, eu sou inútil?\n",
       "\t\tPessoal, parem de me ler agora.\n",
       "\t\tObrigado\n",
       "\t</p>\n",
       "</div>\n",
       "<br/><br/><br/>\n",
       "<div class=\"article\" id=\"imp_article_ID\" style=\"background-color:peachpuff\">\n",
       "<h2>Já utilizou o google hoje?</h2>\n",
       "<a href=\"http://www.google.com\"><h3><b> Ir para o google </b></h3></a>\n",
       "</div>\n",
       "<br/><br/><br/>\n",
       "<div class=\"article\" id=\"I_AM_AnotherDivID\" style=\"background-color:peachpuff\">\n",
       "<b>Sou apenas uma nova divisão<b><br/>\n",
       "\tQuer ir para o site do professor?\n",
       "\t<a href=\"https://www.udemy.com/user/gabriel-henrique-casemiro/\">Ir agora</a>\n",
       "</b></b></div>\n",
       "<div class=\"article\" id=\"I_AM_AnotherDivID\" style=\"background-color:peachpuff\">\n",
       "<b>Vamos participar do grupo do curso?<b><br/>\n",
       "<a href=\"https://t.me/criandoroboscompython\">Entrar no grupo do telegram</a>\n",
       "</b></b></div>\n",
       "<br/><br/><br/>\n",
       "<div id=\"footer\" style=\"background-color:peachpuff\">\n",
       "<center><h2>Sou um rodapé</h2> </center>\n",
       "</div>\n",
       "</body>\n",
       "</html>"
      ]
     },
     "execution_count": 5,
     "metadata": {},
     "output_type": "execute_result"
    }
   ],
   "source": [
    "soup"
   ]
  },
  {
   "cell_type": "code",
   "execution_count": 6,
   "id": "b145b432",
   "metadata": {},
   "outputs": [
    {
     "data": {
      "text/plain": [
       "'<!DOCTYPE html>\\n<html>\\n <head>\\n  <title>\\n   Um HTML simples\\n  </title>\\n </head>\\n <body bgcolor=\"salmon\">\\n  <h1 style=\"background-color:peachpuff\">\\n   Um tópico aleatório\\n  </h1>\\n  <div class=\"article\" id=\"I_AM_Unique\" style=\"background-color:peachpuff\">\\n   <p style=\"background-color:peachpuff\">\\n    Eu sou a descrição do tópico aleatório acima. Não há necessidade de me ler em tudo.\\n\\t\\tAinda assim, se você está lendo, o problema é seu.\\n\\t\\tVocê ainda não consegue descobrir, eu sou inútil?\\n\\t\\tPessoal, parem de me ler agora.\\n\\t\\tObrigado\\n   </p>\\n  </div>\\n  <br/>\\n  <br/>\\n  <br/>\\n  <div class=\"article\" id=\"imp_article_ID\" style=\"background-color:peachpuff\">\\n   <h2>\\n    Já utilizou o google hoje?\\n   </h2>\\n   <a href=\"http://www.google.com\">\\n    <h3>\\n     <b>\\n      Ir para o google\\n     </b>\\n    </h3>\\n   </a>\\n  </div>\\n  <br/>\\n  <br/>\\n  <br/>\\n  <div class=\"article\" id=\"I_AM_AnotherDivID\" style=\"background-color:peachpuff\">\\n   <b>\\n    Sou apenas uma nova divisão\\n    <b>\\n     <br/>\\n     Quer ir para o site do professor?\\n     <a href=\"https://www.udemy.com/user/gabriel-henrique-casemiro/\">\\n      Ir agora\\n     </a>\\n    </b>\\n   </b>\\n  </div>\\n  <div class=\"article\" id=\"I_AM_AnotherDivID\" style=\"background-color:peachpuff\">\\n   <b>\\n    Vamos participar do grupo do curso?\\n    <b>\\n     <br/>\\n     <a href=\"https://t.me/criandoroboscompython\">\\n      Entrar no grupo do telegram\\n     </a>\\n    </b>\\n   </b>\\n  </div>\\n  <br/>\\n  <br/>\\n  <br/>\\n  <div id=\"footer\" style=\"background-color:peachpuff\">\\n   <center>\\n    <h2>\\n     Sou um rodapé\\n    </h2>\\n   </center>\\n  </div>\\n </body>\\n</html>\\n'"
      ]
     },
     "execution_count": 6,
     "metadata": {},
     "output_type": "execute_result"
    }
   ],
   "source": [
    "soup.prettify()"
   ]
  },
  {
   "cell_type": "code",
   "execution_count": 7,
   "id": "453a3cfb",
   "metadata": {},
   "outputs": [
    {
     "data": {
      "text/plain": [
       "'  Um HTML simples   Um tópico aleatório  Eu sou a descrição do tópico aleatório acima. Não há necessidade de me ler em tudo. \\t\\tAinda assim, se você está lendo, o problema é seu. \\t\\tVocê ainda não consegue descobrir, eu sou inútil? \\t\\tPessoal, parem de me ler agora. \\t\\tObrigado \\t    Já utilizou o google hoje?  Ir para o google     Sou apenas uma nova divisão \\tQuer ir para o site do professor? \\tIr agora   Vamos participar do grupo do curso? Entrar no grupo do telegram    Sou um rodapé     '"
      ]
     },
     "execution_count": 7,
     "metadata": {},
     "output_type": "execute_result"
    }
   ],
   "source": [
    "soup.getText().replace('\\n', ' ')"
   ]
  },
  {
   "cell_type": "code",
   "execution_count": 8,
   "id": "5007d465",
   "metadata": {},
   "outputs": [
    {
     "data": {
      "text/plain": [
       "<title>Um HTML simples</title>"
      ]
     },
     "execution_count": 8,
     "metadata": {},
     "output_type": "execute_result"
    }
   ],
   "source": [
    "soup.title"
   ]
  },
  {
   "cell_type": "code",
   "execution_count": 9,
   "id": "74f43ef1",
   "metadata": {},
   "outputs": [
    {
     "data": {
      "text/plain": [
       "'Um HTML simples'"
      ]
     },
     "execution_count": 9,
     "metadata": {},
     "output_type": "execute_result"
    }
   ],
   "source": [
    "soup.title.string"
   ]
  },
  {
   "cell_type": "code",
   "execution_count": 10,
   "id": "38caa967",
   "metadata": {},
   "outputs": [
    {
     "data": {
      "text/plain": [
       "'title'"
      ]
     },
     "execution_count": 10,
     "metadata": {},
     "output_type": "execute_result"
    }
   ],
   "source": [
    "soup.title.name"
   ]
  },
  {
   "cell_type": "code",
   "execution_count": 11,
   "id": "431f024b",
   "metadata": {},
   "outputs": [
    {
     "data": {
      "text/plain": [
       "<head>\n",
       "<title>Um HTML simples</title>\n",
       "</head>"
      ]
     },
     "execution_count": 11,
     "metadata": {},
     "output_type": "execute_result"
    }
   ],
   "source": [
    "soup.title.parent"
   ]
  },
  {
   "cell_type": "code",
   "execution_count": 12,
   "id": "b115627f",
   "metadata": {},
   "outputs": [
    {
     "data": {
      "text/plain": [
       "'head'"
      ]
     },
     "execution_count": 12,
     "metadata": {},
     "output_type": "execute_result"
    }
   ],
   "source": [
    "soup.title.parent.name"
   ]
  },
  {
   "cell_type": "code",
   "execution_count": 13,
   "id": "9dc02940",
   "metadata": {},
   "outputs": [
    {
     "data": {
      "text/plain": [
       "'html'"
      ]
     },
     "execution_count": 13,
     "metadata": {},
     "output_type": "execute_result"
    }
   ],
   "source": [
    "soup.title.parent.parent.name"
   ]
  },
  {
   "cell_type": "code",
   "execution_count": 14,
   "id": "0615840b",
   "metadata": {},
   "outputs": [
    {
     "data": {
      "text/plain": [
       "<div class=\"article\" id=\"I_AM_Unique\" style=\"background-color:peachpuff\">\n",
       "<p style=\"background-color:peachpuff\">Eu sou a descrição do tópico aleatório acima. Não há necessidade de me ler em tudo.\n",
       "\t\tAinda assim, se você está lendo, o problema é seu.\n",
       "\t\tVocê ainda não consegue descobrir, eu sou inútil?\n",
       "\t\tPessoal, parem de me ler agora.\n",
       "\t\tObrigado\n",
       "\t</p>\n",
       "</div>"
      ]
     },
     "execution_count": 14,
     "metadata": {},
     "output_type": "execute_result"
    }
   ],
   "source": [
    "soup.div"
   ]
  },
  {
   "cell_type": "code",
   "execution_count": 15,
   "id": "01df794e",
   "metadata": {},
   "outputs": [
    {
     "data": {
      "text/plain": [
       "['\\n',\n",
       " <p style=\"background-color:peachpuff\">Eu sou a descrição do tópico aleatório acima. Não há necessidade de me ler em tudo.\n",
       " \t\tAinda assim, se você está lendo, o problema é seu.\n",
       " \t\tVocê ainda não consegue descobrir, eu sou inútil?\n",
       " \t\tPessoal, parem de me ler agora.\n",
       " \t\tObrigado\n",
       " \t</p>,\n",
       " '\\n']"
      ]
     },
     "execution_count": 15,
     "metadata": {},
     "output_type": "execute_result"
    }
   ],
   "source": [
    "list(soup.div.children)"
   ]
  },
  {
   "cell_type": "code",
   "execution_count": 16,
   "id": "3b55cdad",
   "metadata": {},
   "outputs": [
    {
     "name": "stdout",
     "output_type": "stream",
     "text": [
      "None\n",
      "p\n",
      "None\n"
     ]
    }
   ],
   "source": [
    "for i in list(soup.div.children):\n",
    "    print(i.name)"
   ]
  },
  {
   "cell_type": "code",
   "execution_count": 17,
   "id": "b7875216",
   "metadata": {},
   "outputs": [
    {
     "data": {
      "text/plain": [
       "'Eu sou a descrição do tópico aleatório acima. Não há necessidade de me ler em tudo.\\n\\t\\tAinda assim, se você está lendo, o problema é seu.\\n\\t\\tVocê ainda não consegue descobrir, eu sou inútil?\\n\\t\\tPessoal, parem de me ler agora.\\n\\t\\tObrigado\\n\\t'"
      ]
     },
     "execution_count": 17,
     "metadata": {},
     "output_type": "execute_result"
    }
   ],
   "source": [
    "soup.p.string"
   ]
  },
  {
   "cell_type": "code",
   "execution_count": 18,
   "id": "eac7eb39",
   "metadata": {},
   "outputs": [
    {
     "data": {
      "text/plain": [
       "<a href=\"http://www.google.com\"><h3><b> Ir para o google </b></h3></a>"
      ]
     },
     "execution_count": 18,
     "metadata": {},
     "output_type": "execute_result"
    }
   ],
   "source": [
    "soup.a"
   ]
  },
  {
   "cell_type": "code",
   "execution_count": 19,
   "id": "b3917c42",
   "metadata": {},
   "outputs": [
    {
     "data": {
      "text/plain": [
       "' Ir para o google '"
      ]
     },
     "execution_count": 19,
     "metadata": {},
     "output_type": "execute_result"
    }
   ],
   "source": [
    "soup.a.string"
   ]
  },
  {
   "cell_type": "code",
   "execution_count": 20,
   "id": "ba221ef8",
   "metadata": {},
   "outputs": [
    {
     "data": {
      "text/plain": [
       "'http://www.google.com'"
      ]
     },
     "execution_count": 20,
     "metadata": {},
     "output_type": "execute_result"
    }
   ],
   "source": [
    "soup.a['href']"
   ]
  },
  {
   "cell_type": "code",
   "execution_count": 21,
   "id": "d98b679f",
   "metadata": {},
   "outputs": [
    {
     "data": {
      "text/plain": [
       "<center><h2>Sou um rodapé</h2> </center>"
      ]
     },
     "execution_count": 21,
     "metadata": {},
     "output_type": "execute_result"
    }
   ],
   "source": [
    "soup.center"
   ]
  },
  {
   "cell_type": "code",
   "execution_count": 22,
   "id": "5d887e2c",
   "metadata": {},
   "outputs": [
    {
     "data": {
      "text/plain": [
       "<div class=\"article\" id=\"I_AM_Unique\" style=\"background-color:peachpuff\">\n",
       "<p style=\"background-color:peachpuff\">Eu sou a descrição do tópico aleatório acima. Não há necessidade de me ler em tudo.\n",
       "\t\tAinda assim, se você está lendo, o problema é seu.\n",
       "\t\tVocê ainda não consegue descobrir, eu sou inútil?\n",
       "\t\tPessoal, parem de me ler agora.\n",
       "\t\tObrigado\n",
       "\t</p>\n",
       "</div>"
      ]
     },
     "execution_count": 22,
     "metadata": {},
     "output_type": "execute_result"
    }
   ],
   "source": [
    "soup.find('div')"
   ]
  },
  {
   "cell_type": "code",
   "execution_count": 23,
   "id": "24bd0f89",
   "metadata": {},
   "outputs": [
    {
     "data": {
      "text/plain": [
       "<div class=\"article\" id=\"imp_article_ID\" style=\"background-color:peachpuff\">\n",
       "<h2>Já utilizou o google hoje?</h2>\n",
       "<a href=\"http://www.google.com\"><h3><b> Ir para o google </b></h3></a>\n",
       "</div>"
      ]
     },
     "execution_count": 23,
     "metadata": {},
     "output_type": "execute_result"
    }
   ],
   "source": [
    "soup.find('div', id='imp_article_ID')"
   ]
  },
  {
   "cell_type": "code",
   "execution_count": 24,
   "id": "4dfaa788",
   "metadata": {},
   "outputs": [
    {
     "data": {
      "text/plain": [
       "<div class=\"article\" id=\"I_AM_Unique\" style=\"background-color:peachpuff\">\n",
       "<p style=\"background-color:peachpuff\">Eu sou a descrição do tópico aleatório acima. Não há necessidade de me ler em tudo.\n",
       "\t\tAinda assim, se você está lendo, o problema é seu.\n",
       "\t\tVocê ainda não consegue descobrir, eu sou inútil?\n",
       "\t\tPessoal, parem de me ler agora.\n",
       "\t\tObrigado\n",
       "\t</p>\n",
       "</div>"
      ]
     },
     "execution_count": 24,
     "metadata": {},
     "output_type": "execute_result"
    }
   ],
   "source": [
    "soup.find('div', class_='article')"
   ]
  },
  {
   "cell_type": "code",
   "execution_count": 25,
   "id": "fb20e1ca",
   "metadata": {},
   "outputs": [
    {
     "data": {
      "text/plain": [
       "[<div class=\"article\" id=\"I_AM_Unique\" style=\"background-color:peachpuff\">\n",
       " <p style=\"background-color:peachpuff\">Eu sou a descrição do tópico aleatório acima. Não há necessidade de me ler em tudo.\n",
       " \t\tAinda assim, se você está lendo, o problema é seu.\n",
       " \t\tVocê ainda não consegue descobrir, eu sou inútil?\n",
       " \t\tPessoal, parem de me ler agora.\n",
       " \t\tObrigado\n",
       " \t</p>\n",
       " </div>,\n",
       " <div class=\"article\" id=\"imp_article_ID\" style=\"background-color:peachpuff\">\n",
       " <h2>Já utilizou o google hoje?</h2>\n",
       " <a href=\"http://www.google.com\"><h3><b> Ir para o google </b></h3></a>\n",
       " </div>,\n",
       " <div class=\"article\" id=\"I_AM_AnotherDivID\" style=\"background-color:peachpuff\">\n",
       " <b>Sou apenas uma nova divisão<b><br/>\n",
       " \tQuer ir para o site do professor?\n",
       " \t<a href=\"https://www.udemy.com/user/gabriel-henrique-casemiro/\">Ir agora</a>\n",
       " </b></b></div>,\n",
       " <div class=\"article\" id=\"I_AM_AnotherDivID\" style=\"background-color:peachpuff\">\n",
       " <b>Vamos participar do grupo do curso?<b><br/>\n",
       " <a href=\"https://t.me/criandoroboscompython\">Entrar no grupo do telegram</a>\n",
       " </b></b></div>]"
      ]
     },
     "execution_count": 25,
     "metadata": {},
     "output_type": "execute_result"
    }
   ],
   "source": [
    "soup.find_all('div', class_='article')"
   ]
  },
  {
   "cell_type": "code",
   "execution_count": 26,
   "id": "4160a12a",
   "metadata": {},
   "outputs": [
    {
     "data": {
      "text/plain": [
       "4"
      ]
     },
     "execution_count": 26,
     "metadata": {},
     "output_type": "execute_result"
    }
   ],
   "source": [
    "len(soup.find_all('div', class_='article'))"
   ]
  },
  {
   "cell_type": "code",
   "execution_count": 27,
   "id": "2c415d10",
   "metadata": {},
   "outputs": [
    {
     "data": {
      "text/plain": [
       "<div class=\"article\" id=\"imp_article_ID\" style=\"background-color:peachpuff\">\n",
       "<h2>Já utilizou o google hoje?</h2>\n",
       "<a href=\"http://www.google.com\"><h3><b> Ir para o google </b></h3></a>\n",
       "</div>"
      ]
     },
     "execution_count": 27,
     "metadata": {},
     "output_type": "execute_result"
    }
   ],
   "source": [
    "soup.find_all('div', class_='article')[1]"
   ]
  },
  {
   "cell_type": "code",
   "execution_count": 28,
   "id": "43925719",
   "metadata": {},
   "outputs": [
    {
     "data": {
      "text/plain": [
       "' Ir para o google '"
      ]
     },
     "execution_count": 28,
     "metadata": {},
     "output_type": "execute_result"
    }
   ],
   "source": [
    "soup.find_all('div', class_='article')[1].a.string"
   ]
  },
  {
   "cell_type": "code",
   "execution_count": 29,
   "id": "5a62dda9",
   "metadata": {},
   "outputs": [
    {
     "data": {
      "text/plain": [
       "'http://www.google.com'"
      ]
     },
     "execution_count": 29,
     "metadata": {},
     "output_type": "execute_result"
    }
   ],
   "source": [
    "soup.find_all('div', class_='article')[1].a['href']"
   ]
  },
  {
   "cell_type": "code",
   "execution_count": 30,
   "id": "e6d7996e",
   "metadata": {},
   "outputs": [
    {
     "data": {
      "text/plain": [
       "[<a href=\"http://www.google.com\"><h3><b> Ir para o google </b></h3></a>,\n",
       " <a href=\"https://www.udemy.com/user/gabriel-henrique-casemiro/\">Ir agora</a>,\n",
       " <a href=\"https://t.me/criandoroboscompython\">Entrar no grupo do telegram</a>]"
      ]
     },
     "execution_count": 30,
     "metadata": {},
     "output_type": "execute_result"
    }
   ],
   "source": [
    "soup.find_all('a')"
   ]
  },
  {
   "cell_type": "code",
   "execution_count": 31,
   "id": "860e92b1",
   "metadata": {},
   "outputs": [
    {
     "name": "stdout",
     "output_type": "stream",
     "text": [
      "http://www.google.com\n",
      "https://www.udemy.com/user/gabriel-henrique-casemiro/\n",
      "https://t.me/criandoroboscompython\n"
     ]
    }
   ],
   "source": [
    "for i in soup.find_all('a'):\n",
    "    print(i['href'])"
   ]
  },
  {
   "cell_type": "code",
   "execution_count": 32,
   "id": "59922036",
   "metadata": {},
   "outputs": [],
   "source": [
    "html_file1 = open('data_in_table.html', mode='r', encoding='utf-8')"
   ]
  },
  {
   "cell_type": "code",
   "execution_count": 33,
   "id": "0e724c4b",
   "metadata": {},
   "outputs": [],
   "source": [
    "soup = BeautifulSoup(html_file1)"
   ]
  },
  {
   "cell_type": "code",
   "execution_count": 34,
   "id": "9a77a825",
   "metadata": {},
   "outputs": [],
   "source": [
    "table = soup.find(id='main_table')"
   ]
  },
  {
   "cell_type": "code",
   "execution_count": 35,
   "id": "625f0969",
   "metadata": {},
   "outputs": [],
   "source": [
    "table_rows = table.find_all('tr')"
   ]
  },
  {
   "cell_type": "code",
   "execution_count": 36,
   "id": "15e65421",
   "metadata": {},
   "outputs": [
    {
     "name": "stdout",
     "output_type": "stream",
     "text": [
      "[<tr> <th>Estudante ID</th> <th>Nome do Estudante</th> <th>Nota</th> </tr>, <tr>\n",
      "<td>100</td> <td>Rodrigo</td> <td>8</td>\n",
      "</tr>, <tr>\n",
      "<td>101</td> <td>Diego</td> <td>8</td>\n",
      "</tr>, <tr>\n",
      "<td>103</td> <td>Alan</td> <td>9</td>\n",
      "</tr>, <tr>\n",
      "<td>104</td> <td>Tony</td> <td>10</td>\n",
      "</tr>, <tr>\n",
      "<td>105</td> <td>Fabiano</td> <td>0</td>\n",
      "</tr>]\n"
     ]
    }
   ],
   "source": [
    "print(table_rows)"
   ]
  },
  {
   "cell_type": "code",
   "execution_count": 37,
   "id": "39899b9d",
   "metadata": {},
   "outputs": [],
   "source": [
    "dados_alunos = []"
   ]
  },
  {
   "cell_type": "code",
   "execution_count": 38,
   "id": "a0a8daa6",
   "metadata": {},
   "outputs": [
    {
     "name": "stdout",
     "output_type": "stream",
     "text": [
      "100 - Rodrigo - 8\n",
      "101 - Diego - 8\n",
      "103 - Alan - 9\n",
      "104 - Tony - 10\n",
      "105 - Fabiano - 0\n"
     ]
    }
   ],
   "source": [
    "for linha in table_rows:\n",
    "    colunas = linha.find_all('td')\n",
    "    if len(colunas) > 0:\n",
    "        codigo_estudante = colunas[0].text\n",
    "        nome_estudante = colunas[1].text\n",
    "        notas_estudante = colunas[2].text\n",
    "        dict_aluno = {\n",
    "            'codigo': codigo_estudante,\n",
    "            'nome': nome_estudante,\n",
    "            'nota': notas_estudante\n",
    "        }\n",
    "        dados_alunos.append(dict_aluno)\n",
    "        print(f'{codigo_estudante} - {nome_estudante} - {notas_estudante}')\n",
    "        \n",
    "        \n",
    "#print(dados_alunos)\n",
    "#import pdb; pdb.set_trace()"
   ]
  },
  {
   "cell_type": "code",
   "execution_count": 39,
   "id": "fc2519ac",
   "metadata": {},
   "outputs": [
    {
     "data": {
      "text/plain": [
       "{'codigo': '100', 'nome': 'Rodrigo', 'nota': '8'}"
      ]
     },
     "execution_count": 39,
     "metadata": {},
     "output_type": "execute_result"
    }
   ],
   "source": [
    "dados_alunos[0]"
   ]
  },
  {
   "cell_type": "code",
   "execution_count": 40,
   "id": "d7023d60",
   "metadata": {},
   "outputs": [
    {
     "data": {
      "text/plain": [
       "'8'"
      ]
     },
     "execution_count": 40,
     "metadata": {},
     "output_type": "execute_result"
    }
   ],
   "source": [
    "dados_alunos[0]['nota']"
   ]
  },
  {
   "cell_type": "code",
   "execution_count": null,
   "id": "0014e1d6",
   "metadata": {},
   "outputs": [],
   "source": []
  }
 ],
 "metadata": {
  "kernelspec": {
   "display_name": "base",
   "language": "python",
   "name": "python3"
  },
  "language_info": {
   "codemirror_mode": {
    "name": "ipython",
    "version": 3
   },
   "file_extension": ".py",
   "mimetype": "text/x-python",
   "name": "python",
   "nbconvert_exporter": "python",
   "pygments_lexer": "ipython3",
   "version": "3.13.5"
  }
 },
 "nbformat": 4,
 "nbformat_minor": 5
}
